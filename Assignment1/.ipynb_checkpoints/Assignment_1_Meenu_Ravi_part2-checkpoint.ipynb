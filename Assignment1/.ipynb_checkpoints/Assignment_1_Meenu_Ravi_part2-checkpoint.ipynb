{
 "cells": [
  {
   "cell_type": "markdown",
   "metadata": {},
   "source": [
    "# Assignment 1, Meenu Ravi, April 9 2021"
   ]
  },
  {
   "cell_type": "markdown",
   "metadata": {},
   "source": [
    "* The notebook is taken from the Geron's textbook.\n",
    "* Data: California census data\n",
    "* Objective: predict housing prices\n",
    "  * **Supervised learning** problem - labeled data\n",
    "  * **Regression problem**\n",
    "    * **Multiple regression** problem - multiple features\n",
    "    * **Univariate regression** problem - we are trying to predict a single label (if we were trying to predict multiple labels - **multivariate regression** problem)\n",
    "* Performance measure:\n",
    "    * **Root Mean Square Error** (RMSE):  RMSE(X,h) $ = \\sqrt{\\frac{1}{m}\\sum^{m}_{i=1} (h(x^{(i)}) - y^{(i)})^2} $\n",
    "    * **Mean absolute error** (MAE): MAE(X,h) $ = \\frac{1}{m} \\sum_{i=1}^m |h(x^{(i)}) - y^{(i)}| $\n",
    "    * RMSE is more sensitive to outliers than the MAE. But when\n",
    "outliers are exponentially rare (like in a bell-shaped curve), the RMSE performs\n",
    "very well and is generally preferred."
   ]
  },
  {
   "cell_type": "markdown",
   "metadata": {},
   "source": [
    "## Setup"
   ]
  },
  {
   "cell_type": "code",
   "execution_count": 197,
   "metadata": {},
   "outputs": [],
   "source": [
    "# Python ≥3.5 is required\n",
    "import sys\n",
    "assert sys.version_info >= (3, 5)\n",
    "\n",
    "# Scikit-Learn ≥0.20 is required\n",
    "import sklearn\n",
    "assert sklearn.__version__ >= \"0.20\"\n",
    "\n",
    "# Common imports\n",
    "import numpy as np\n",
    "import os\n",
    "\n",
    "# To plot pretty figures\n",
    "%matplotlib inline\n",
    "import matplotlib as mpl\n",
    "import matplotlib.pyplot as plt\n",
    "mpl.rc('axes', labelsize=14)\n",
    "mpl.rc('xtick', labelsize=12)\n",
    "mpl.rc('ytick', labelsize=12)\n",
    "\n",
    "# Where to save the figures\n",
    "PROJECT_ROOT_DIR = \".\"\n",
    "CHAPTER_ID = \"end_to_end_project\"\n",
    "IMAGES_PATH = os.path.join(PROJECT_ROOT_DIR, \"images\", CHAPTER_ID)\n",
    "os.makedirs(IMAGES_PATH, exist_ok=True)\n",
    "\n",
    "def save_fig(fig_id, tight_layout=True, fig_extension=\"png\", resolution=300):\n",
    "    path = os.path.join(IMAGES_PATH, fig_id + \".\" + fig_extension)\n",
    "    print(\"Saving figure\", fig_id)\n",
    "    if tight_layout:\n",
    "        plt.tight_layout()\n",
    "    plt.savefig(path, format=fig_extension, dpi=resolution)"
   ]
  },
  {
   "cell_type": "markdown",
   "metadata": {},
   "source": [
    "# Get the data"
   ]
  },
  {
   "cell_type": "markdown",
   "metadata": {},
   "source": [
    "* Download data to disk"
   ]
  },
  {
   "cell_type": "code",
   "execution_count": 198,
   "metadata": {},
   "outputs": [],
   "source": [
    "import os\n",
    "import tarfile\n",
    "import urllib.request\n",
    "\n",
    "DOWNLOAD_ROOT = \"https://raw.githubusercontent.com/ageron/handson-ml2/master/\"\n",
    "HOUSING_PATH = os.path.join(\"datasets\", \"housing\")\n",
    "HOUSING_URL = DOWNLOAD_ROOT + \"datasets/housing/housing.tgz\"\n",
    "\n",
    "def fetch_housing_data(housing_url=HOUSING_URL, housing_path=HOUSING_PATH):\n",
    "    if not os.path.isdir(housing_path):\n",
    "        os.makedirs(housing_path)\n",
    "    tgz_path = os.path.join(housing_path, \"housing.tgz\")\n",
    "    urllib.request.urlretrieve(housing_url, tgz_path)\n",
    "    housing_tgz = tarfile.open(tgz_path)\n",
    "    housing_tgz.extractall(path=housing_path)\n",
    "    housing_tgz.close()"
   ]
  },
  {
   "cell_type": "code",
   "execution_count": 199,
   "metadata": {},
   "outputs": [],
   "source": [
    "fetch_housing_data()"
   ]
  },
  {
   "cell_type": "code",
   "execution_count": 200,
   "metadata": {},
   "outputs": [],
   "source": [
    "import pandas as pd\n",
    "\n",
    "def load_housing_data(housing_path=HOUSING_PATH):\n",
    "    csv_path = os.path.join(housing_path, \"housing.csv\")\n",
    "    return pd.read_csv(csv_path)"
   ]
  },
  {
   "cell_type": "code",
   "execution_count": 201,
   "metadata": {},
   "outputs": [],
   "source": [
    "housing = load_housing_data()\n",
    "np.random.seed(42)"
   ]
  },
  {
   "cell_type": "markdown",
   "metadata": {},
   "source": [
    "## Split data into train and test set"
   ]
  },
  {
   "cell_type": "code",
   "execution_count": 202,
   "metadata": {},
   "outputs": [],
   "source": [
    "from sklearn.model_selection import train_test_split\n",
    "\n",
    "train_set, test_set = train_test_split(housing, test_size=0.2, random_state=42)"
   ]
  },
  {
   "cell_type": "markdown",
   "metadata": {},
   "source": [
    "# Prepare the data for Machine Learning algorithms"
   ]
  },
  {
   "cell_type": "code",
   "execution_count": 203,
   "metadata": {},
   "outputs": [],
   "source": [
    "from sklearn.model_selection import StratifiedShuffleSplit\n",
    "housing[\"income_cat\"] = pd.cut(housing[\"median_income\"],\n",
    "                               bins=[0., 1.5, 3.0, 4.5, 6., np.inf],\n",
    "                               labels=[1, 2, 3, 4, 5])\n",
    "split = StratifiedShuffleSplit(n_splits=1, test_size=0.2, random_state=42)\n",
    "for train_index, test_index in split.split(housing, housing[\"income_cat\"]):\n",
    "    strat_train_set = housing.loc[train_index]\n",
    "    strat_test_set = housing.loc[test_index]"
   ]
  },
  {
   "cell_type": "code",
   "execution_count": 204,
   "metadata": {},
   "outputs": [],
   "source": [
    "housing = strat_train_set.drop(\"median_house_value\", axis=1) # drop labels for training set\n",
    "housing_labels = strat_train_set[\"median_house_value\"].copy()"
   ]
  },
  {
   "cell_type": "markdown",
   "metadata": {},
   "source": [
    "### Data cleaning\n",
    "#### Dealing with missing values"
   ]
  },
  {
   "cell_type": "code",
   "execution_count": 205,
   "metadata": {},
   "outputs": [],
   "source": [
    "sample_incomplete_rows = housing[housing.isnull().any(axis=1)].head()"
   ]
  },
  {
   "cell_type": "markdown",
   "metadata": {},
   "source": [
    "#### Option 1: drop records with missing values"
   ]
  },
  {
   "cell_type": "code",
   "execution_count": 206,
   "metadata": {},
   "outputs": [
    {
     "data": {
      "text/html": [
       "<div>\n",
       "<style scoped>\n",
       "    .dataframe tbody tr th:only-of-type {\n",
       "        vertical-align: middle;\n",
       "    }\n",
       "\n",
       "    .dataframe tbody tr th {\n",
       "        vertical-align: top;\n",
       "    }\n",
       "\n",
       "    .dataframe thead th {\n",
       "        text-align: right;\n",
       "    }\n",
       "</style>\n",
       "<table border=\"1\" class=\"dataframe\">\n",
       "  <thead>\n",
       "    <tr style=\"text-align: right;\">\n",
       "      <th></th>\n",
       "      <th>longitude</th>\n",
       "      <th>latitude</th>\n",
       "      <th>housing_median_age</th>\n",
       "      <th>total_rooms</th>\n",
       "      <th>total_bedrooms</th>\n",
       "      <th>population</th>\n",
       "      <th>households</th>\n",
       "      <th>median_income</th>\n",
       "      <th>ocean_proximity</th>\n",
       "      <th>income_cat</th>\n",
       "    </tr>\n",
       "  </thead>\n",
       "  <tbody>\n",
       "  </tbody>\n",
       "</table>\n",
       "</div>"
      ],
      "text/plain": [
       "Empty DataFrame\n",
       "Columns: [longitude, latitude, housing_median_age, total_rooms, total_bedrooms, population, households, median_income, ocean_proximity, income_cat]\n",
       "Index: []"
      ]
     },
     "execution_count": 206,
     "metadata": {},
     "output_type": "execute_result"
    }
   ],
   "source": [
    "sample_incomplete_rows.dropna(subset=[\"total_bedrooms\"])"
   ]
  },
  {
   "cell_type": "markdown",
   "metadata": {},
   "source": [
    "#### Option 2: drop variable that has incomplete values"
   ]
  },
  {
   "cell_type": "code",
   "execution_count": 207,
   "metadata": {},
   "outputs": [
    {
     "data": {
      "text/html": [
       "<div>\n",
       "<style scoped>\n",
       "    .dataframe tbody tr th:only-of-type {\n",
       "        vertical-align: middle;\n",
       "    }\n",
       "\n",
       "    .dataframe tbody tr th {\n",
       "        vertical-align: top;\n",
       "    }\n",
       "\n",
       "    .dataframe thead th {\n",
       "        text-align: right;\n",
       "    }\n",
       "</style>\n",
       "<table border=\"1\" class=\"dataframe\">\n",
       "  <thead>\n",
       "    <tr style=\"text-align: right;\">\n",
       "      <th></th>\n",
       "      <th>longitude</th>\n",
       "      <th>latitude</th>\n",
       "      <th>housing_median_age</th>\n",
       "      <th>total_rooms</th>\n",
       "      <th>population</th>\n",
       "      <th>households</th>\n",
       "      <th>median_income</th>\n",
       "      <th>ocean_proximity</th>\n",
       "      <th>income_cat</th>\n",
       "    </tr>\n",
       "  </thead>\n",
       "  <tbody>\n",
       "    <tr>\n",
       "      <th>4629</th>\n",
       "      <td>-118.30</td>\n",
       "      <td>34.07</td>\n",
       "      <td>18.0</td>\n",
       "      <td>3759.0</td>\n",
       "      <td>3296.0</td>\n",
       "      <td>1462.0</td>\n",
       "      <td>2.2708</td>\n",
       "      <td>&lt;1H OCEAN</td>\n",
       "      <td>2</td>\n",
       "    </tr>\n",
       "    <tr>\n",
       "      <th>6068</th>\n",
       "      <td>-117.86</td>\n",
       "      <td>34.01</td>\n",
       "      <td>16.0</td>\n",
       "      <td>4632.0</td>\n",
       "      <td>3038.0</td>\n",
       "      <td>727.0</td>\n",
       "      <td>5.1762</td>\n",
       "      <td>&lt;1H OCEAN</td>\n",
       "      <td>4</td>\n",
       "    </tr>\n",
       "    <tr>\n",
       "      <th>17923</th>\n",
       "      <td>-121.97</td>\n",
       "      <td>37.35</td>\n",
       "      <td>30.0</td>\n",
       "      <td>1955.0</td>\n",
       "      <td>999.0</td>\n",
       "      <td>386.0</td>\n",
       "      <td>4.6328</td>\n",
       "      <td>&lt;1H OCEAN</td>\n",
       "      <td>4</td>\n",
       "    </tr>\n",
       "    <tr>\n",
       "      <th>13656</th>\n",
       "      <td>-117.30</td>\n",
       "      <td>34.05</td>\n",
       "      <td>6.0</td>\n",
       "      <td>2155.0</td>\n",
       "      <td>1039.0</td>\n",
       "      <td>391.0</td>\n",
       "      <td>1.6675</td>\n",
       "      <td>INLAND</td>\n",
       "      <td>2</td>\n",
       "    </tr>\n",
       "    <tr>\n",
       "      <th>19252</th>\n",
       "      <td>-122.79</td>\n",
       "      <td>38.48</td>\n",
       "      <td>7.0</td>\n",
       "      <td>6837.0</td>\n",
       "      <td>3468.0</td>\n",
       "      <td>1405.0</td>\n",
       "      <td>3.1662</td>\n",
       "      <td>&lt;1H OCEAN</td>\n",
       "      <td>3</td>\n",
       "    </tr>\n",
       "  </tbody>\n",
       "</table>\n",
       "</div>"
      ],
      "text/plain": [
       "       longitude  latitude  housing_median_age  total_rooms  population  \\\n",
       "4629     -118.30     34.07                18.0       3759.0      3296.0   \n",
       "6068     -117.86     34.01                16.0       4632.0      3038.0   \n",
       "17923    -121.97     37.35                30.0       1955.0       999.0   \n",
       "13656    -117.30     34.05                 6.0       2155.0      1039.0   \n",
       "19252    -122.79     38.48                 7.0       6837.0      3468.0   \n",
       "\n",
       "       households  median_income ocean_proximity income_cat  \n",
       "4629       1462.0         2.2708       <1H OCEAN          2  \n",
       "6068        727.0         5.1762       <1H OCEAN          4  \n",
       "17923       386.0         4.6328       <1H OCEAN          4  \n",
       "13656       391.0         1.6675          INLAND          2  \n",
       "19252      1405.0         3.1662       <1H OCEAN          3  "
      ]
     },
     "execution_count": 207,
     "metadata": {},
     "output_type": "execute_result"
    }
   ],
   "source": [
    "sample_incomplete_rows.drop(\"total_bedrooms\", axis=1)       # option 2"
   ]
  },
  {
   "cell_type": "markdown",
   "metadata": {},
   "source": [
    "#### Option 3: fill missing values with, for example, median or mean or some other constant"
   ]
  },
  {
   "cell_type": "code",
   "execution_count": 208,
   "metadata": {},
   "outputs": [],
   "source": [
    "median = housing[\"total_bedrooms\"].median()\n",
    "sample_incomplete_rows[\"total_bedrooms\"].fillna(median, inplace=True) # option 3"
   ]
  },
  {
   "cell_type": "code",
   "execution_count": 209,
   "metadata": {},
   "outputs": [],
   "source": [
    "from sklearn.impute import SimpleImputer\n",
    "imputer = SimpleImputer(strategy=\"median\")"
   ]
  },
  {
   "cell_type": "markdown",
   "metadata": {},
   "source": [
    "Remove the text attribute because median can only be calculated on numerical attributes:"
   ]
  },
  {
   "cell_type": "code",
   "execution_count": 210,
   "metadata": {},
   "outputs": [],
   "source": [
    "housing_num = housing.drop(\"ocean_proximity\", axis=1)\n",
    "# alternatively: housing_num = housing.select_dtypes(include=[np.number])"
   ]
  },
  {
   "cell_type": "markdown",
   "metadata": {},
   "source": [
    "Transform the training set:"
   ]
  },
  {
   "cell_type": "code",
   "execution_count": 211,
   "metadata": {},
   "outputs": [],
   "source": [
    "imputer.fit(housing_num)\n",
    "X = imputer.transform(housing_num)"
   ]
  },
  {
   "cell_type": "code",
   "execution_count": 212,
   "metadata": {},
   "outputs": [],
   "source": [
    "housing_tr = pd.DataFrame(X, columns=housing_num.columns,\n",
    "                          index=housing.index)"
   ]
  },
  {
   "cell_type": "code",
   "execution_count": 213,
   "metadata": {},
   "outputs": [
    {
     "data": {
      "text/html": [
       "<div>\n",
       "<style scoped>\n",
       "    .dataframe tbody tr th:only-of-type {\n",
       "        vertical-align: middle;\n",
       "    }\n",
       "\n",
       "    .dataframe tbody tr th {\n",
       "        vertical-align: top;\n",
       "    }\n",
       "\n",
       "    .dataframe thead th {\n",
       "        text-align: right;\n",
       "    }\n",
       "</style>\n",
       "<table border=\"1\" class=\"dataframe\">\n",
       "  <thead>\n",
       "    <tr style=\"text-align: right;\">\n",
       "      <th></th>\n",
       "      <th>longitude</th>\n",
       "      <th>latitude</th>\n",
       "      <th>housing_median_age</th>\n",
       "      <th>total_rooms</th>\n",
       "      <th>total_bedrooms</th>\n",
       "      <th>population</th>\n",
       "      <th>households</th>\n",
       "      <th>median_income</th>\n",
       "      <th>income_cat</th>\n",
       "    </tr>\n",
       "  </thead>\n",
       "  <tbody>\n",
       "    <tr>\n",
       "      <th>4629</th>\n",
       "      <td>-118.30</td>\n",
       "      <td>34.07</td>\n",
       "      <td>18.0</td>\n",
       "      <td>3759.0</td>\n",
       "      <td>433.0</td>\n",
       "      <td>3296.0</td>\n",
       "      <td>1462.0</td>\n",
       "      <td>2.2708</td>\n",
       "      <td>2.0</td>\n",
       "    </tr>\n",
       "    <tr>\n",
       "      <th>6068</th>\n",
       "      <td>-117.86</td>\n",
       "      <td>34.01</td>\n",
       "      <td>16.0</td>\n",
       "      <td>4632.0</td>\n",
       "      <td>433.0</td>\n",
       "      <td>3038.0</td>\n",
       "      <td>727.0</td>\n",
       "      <td>5.1762</td>\n",
       "      <td>4.0</td>\n",
       "    </tr>\n",
       "    <tr>\n",
       "      <th>17923</th>\n",
       "      <td>-121.97</td>\n",
       "      <td>37.35</td>\n",
       "      <td>30.0</td>\n",
       "      <td>1955.0</td>\n",
       "      <td>433.0</td>\n",
       "      <td>999.0</td>\n",
       "      <td>386.0</td>\n",
       "      <td>4.6328</td>\n",
       "      <td>4.0</td>\n",
       "    </tr>\n",
       "    <tr>\n",
       "      <th>13656</th>\n",
       "      <td>-117.30</td>\n",
       "      <td>34.05</td>\n",
       "      <td>6.0</td>\n",
       "      <td>2155.0</td>\n",
       "      <td>433.0</td>\n",
       "      <td>1039.0</td>\n",
       "      <td>391.0</td>\n",
       "      <td>1.6675</td>\n",
       "      <td>2.0</td>\n",
       "    </tr>\n",
       "    <tr>\n",
       "      <th>19252</th>\n",
       "      <td>-122.79</td>\n",
       "      <td>38.48</td>\n",
       "      <td>7.0</td>\n",
       "      <td>6837.0</td>\n",
       "      <td>433.0</td>\n",
       "      <td>3468.0</td>\n",
       "      <td>1405.0</td>\n",
       "      <td>3.1662</td>\n",
       "      <td>3.0</td>\n",
       "    </tr>\n",
       "  </tbody>\n",
       "</table>\n",
       "</div>"
      ],
      "text/plain": [
       "       longitude  latitude  housing_median_age  total_rooms  total_bedrooms  \\\n",
       "4629     -118.30     34.07                18.0       3759.0           433.0   \n",
       "6068     -117.86     34.01                16.0       4632.0           433.0   \n",
       "17923    -121.97     37.35                30.0       1955.0           433.0   \n",
       "13656    -117.30     34.05                 6.0       2155.0           433.0   \n",
       "19252    -122.79     38.48                 7.0       6837.0           433.0   \n",
       "\n",
       "       population  households  median_income  income_cat  \n",
       "4629       3296.0      1462.0         2.2708         2.0  \n",
       "6068       3038.0       727.0         5.1762         4.0  \n",
       "17923       999.0       386.0         4.6328         4.0  \n",
       "13656      1039.0       391.0         1.6675         2.0  \n",
       "19252      3468.0      1405.0         3.1662         3.0  "
      ]
     },
     "execution_count": 213,
     "metadata": {},
     "output_type": "execute_result"
    }
   ],
   "source": [
    "housing_tr.loc[sample_incomplete_rows.index.values]"
   ]
  },
  {
   "cell_type": "code",
   "execution_count": 214,
   "metadata": {},
   "outputs": [],
   "source": [
    "housing_tr = pd.DataFrame(X, columns=housing_num.columns,\n",
    "                          index=housing_num.index)"
   ]
  },
  {
   "cell_type": "markdown",
   "metadata": {},
   "source": [
    "### Encode categorical input features\n"
   ]
  },
  {
   "cell_type": "code",
   "execution_count": 215,
   "metadata": {},
   "outputs": [
    {
     "data": {
      "text/html": [
       "<div>\n",
       "<style scoped>\n",
       "    .dataframe tbody tr th:only-of-type {\n",
       "        vertical-align: middle;\n",
       "    }\n",
       "\n",
       "    .dataframe tbody tr th {\n",
       "        vertical-align: top;\n",
       "    }\n",
       "\n",
       "    .dataframe thead th {\n",
       "        text-align: right;\n",
       "    }\n",
       "</style>\n",
       "<table border=\"1\" class=\"dataframe\">\n",
       "  <thead>\n",
       "    <tr style=\"text-align: right;\">\n",
       "      <th></th>\n",
       "      <th>ocean_proximity</th>\n",
       "    </tr>\n",
       "  </thead>\n",
       "  <tbody>\n",
       "    <tr>\n",
       "      <th>17606</th>\n",
       "      <td>&lt;1H OCEAN</td>\n",
       "    </tr>\n",
       "    <tr>\n",
       "      <th>18632</th>\n",
       "      <td>&lt;1H OCEAN</td>\n",
       "    </tr>\n",
       "    <tr>\n",
       "      <th>14650</th>\n",
       "      <td>NEAR OCEAN</td>\n",
       "    </tr>\n",
       "    <tr>\n",
       "      <th>3230</th>\n",
       "      <td>INLAND</td>\n",
       "    </tr>\n",
       "    <tr>\n",
       "      <th>3555</th>\n",
       "      <td>&lt;1H OCEAN</td>\n",
       "    </tr>\n",
       "    <tr>\n",
       "      <th>19480</th>\n",
       "      <td>INLAND</td>\n",
       "    </tr>\n",
       "    <tr>\n",
       "      <th>8879</th>\n",
       "      <td>&lt;1H OCEAN</td>\n",
       "    </tr>\n",
       "    <tr>\n",
       "      <th>13685</th>\n",
       "      <td>INLAND</td>\n",
       "    </tr>\n",
       "    <tr>\n",
       "      <th>4937</th>\n",
       "      <td>&lt;1H OCEAN</td>\n",
       "    </tr>\n",
       "    <tr>\n",
       "      <th>4861</th>\n",
       "      <td>&lt;1H OCEAN</td>\n",
       "    </tr>\n",
       "  </tbody>\n",
       "</table>\n",
       "</div>"
      ],
      "text/plain": [
       "      ocean_proximity\n",
       "17606       <1H OCEAN\n",
       "18632       <1H OCEAN\n",
       "14650      NEAR OCEAN\n",
       "3230           INLAND\n",
       "3555        <1H OCEAN\n",
       "19480          INLAND\n",
       "8879        <1H OCEAN\n",
       "13685          INLAND\n",
       "4937        <1H OCEAN\n",
       "4861        <1H OCEAN"
      ]
     },
     "execution_count": 215,
     "metadata": {},
     "output_type": "execute_result"
    }
   ],
   "source": [
    "housing_cat = housing[[\"ocean_proximity\"]]\n",
    "housing_cat.head(10)"
   ]
  },
  {
   "cell_type": "markdown",
   "metadata": {},
   "source": [
    "#### OrdinalEncoder"
   ]
  },
  {
   "cell_type": "code",
   "execution_count": 216,
   "metadata": {},
   "outputs": [
    {
     "data": {
      "text/plain": [
       "array([[0.],\n",
       "       [0.],\n",
       "       [4.],\n",
       "       [1.],\n",
       "       [0.],\n",
       "       [1.],\n",
       "       [0.],\n",
       "       [1.],\n",
       "       [0.],\n",
       "       [0.]])"
      ]
     },
     "execution_count": 216,
     "metadata": {},
     "output_type": "execute_result"
    }
   ],
   "source": [
    "from sklearn.preprocessing import OrdinalEncoder\n",
    "\n",
    "ordinal_encoder = OrdinalEncoder()\n",
    "housing_cat_encoded = ordinal_encoder.fit_transform(housing_cat)\n",
    "housing_cat_encoded[:10]"
   ]
  },
  {
   "cell_type": "markdown",
   "metadata": {},
   "source": [
    "#### OneHotEncoder"
   ]
  },
  {
   "cell_type": "code",
   "execution_count": 217,
   "metadata": {},
   "outputs": [
    {
     "data": {
      "text/plain": [
       "<16512x5 sparse matrix of type '<class 'numpy.float64'>'\n",
       "\twith 16512 stored elements in Compressed Sparse Row format>"
      ]
     },
     "execution_count": 217,
     "metadata": {},
     "output_type": "execute_result"
    }
   ],
   "source": [
    "from sklearn.preprocessing import OneHotEncoder\n",
    "\n",
    "cat_encoder = OneHotEncoder()\n",
    "housing_cat_1hot = cat_encoder.fit_transform(housing_cat)\n",
    "housing_cat_1hot"
   ]
  },
  {
   "cell_type": "markdown",
   "metadata": {},
   "source": [
    "By default, the `OneHotEncoder` class returns a sparse array, but we can convert it to a dense array if needed by calling the `toarray()` method:"
   ]
  },
  {
   "cell_type": "code",
   "execution_count": 218,
   "metadata": {},
   "outputs": [
    {
     "data": {
      "text/plain": [
       "array([[1., 0., 0., 0., 0.],\n",
       "       [1., 0., 0., 0., 0.],\n",
       "       [0., 0., 0., 0., 1.],\n",
       "       ...,\n",
       "       [0., 1., 0., 0., 0.],\n",
       "       [1., 0., 0., 0., 0.],\n",
       "       [0., 0., 0., 1., 0.]])"
      ]
     },
     "execution_count": 218,
     "metadata": {},
     "output_type": "execute_result"
    }
   ],
   "source": [
    "housing_cat_1hot.toarray()"
   ]
  },
  {
   "cell_type": "markdown",
   "metadata": {},
   "source": [
    "Alternatively, you can set `sparse=False` when creating the `OneHotEncoder`:"
   ]
  },
  {
   "cell_type": "code",
   "execution_count": 219,
   "metadata": {},
   "outputs": [
    {
     "data": {
      "text/plain": [
       "array([[1., 0., 0., 0., 0.],\n",
       "       [1., 0., 0., 0., 0.],\n",
       "       [0., 0., 0., 0., 1.],\n",
       "       ...,\n",
       "       [0., 1., 0., 0., 0.],\n",
       "       [1., 0., 0., 0., 0.],\n",
       "       [0., 0., 0., 1., 0.]])"
      ]
     },
     "execution_count": 219,
     "metadata": {},
     "output_type": "execute_result"
    }
   ],
   "source": [
    "cat_encoder = OneHotEncoder(sparse=False)\n",
    "housing_cat_1hot = cat_encoder.fit_transform(housing_cat)\n",
    "housing_cat_1hot"
   ]
  },
  {
   "cell_type": "code",
   "execution_count": 220,
   "metadata": {},
   "outputs": [
    {
     "data": {
      "text/plain": [
       "(16512, 12)"
      ]
     },
     "execution_count": 220,
     "metadata": {},
     "output_type": "execute_result"
    }
   ],
   "source": [
    "from sklearn.base import BaseEstimator, TransformerMixin\n",
    "\n",
    "col_names = \"total_rooms\", \"total_bedrooms\", \"population\", \"households\"\n",
    "rooms_ix, bedrooms_ix, population_ix, households_ix = [\n",
    "    housing.columns.get_loc(c) for c in col_names]\n",
    "\n",
    "class CombinedAttributesAdder(BaseEstimator, TransformerMixin):\n",
    "    def __init__(self, add_bedrooms_per_room=True): # no *args or **kargs\n",
    "        self.add_bedrooms_per_room = add_bedrooms_per_room\n",
    "    def fit(self, X, y=None):\n",
    "        return self  # nothing else to do\n",
    "    def transform(self, X):\n",
    "        rooms_per_household = X[:, rooms_ix] / X[:, households_ix]\n",
    "        population_per_household = X[:, population_ix] / X[:, households_ix]\n",
    "        if self.add_bedrooms_per_room:\n",
    "            bedrooms_per_room = X[:, bedrooms_ix] / X[:, rooms_ix]\n",
    "            return np.c_[X, rooms_per_household, population_per_household,\n",
    "                         bedrooms_per_room]\n",
    "        else:\n",
    "            return np.c_[X, rooms_per_household, population_per_household]\n",
    "\n",
    "attr_adder = CombinedAttributesAdder(add_bedrooms_per_room=False)\n",
    "housing_extra_attribs = attr_adder.transform(housing.values)\n",
    "\n",
    "type(housing_extra_attribs)\n",
    "housing_extra_attribs.shape"
   ]
  },
  {
   "cell_type": "code",
   "execution_count": 221,
   "metadata": {},
   "outputs": [
    {
     "data": {
      "text/html": [
       "<div>\n",
       "<style scoped>\n",
       "    .dataframe tbody tr th:only-of-type {\n",
       "        vertical-align: middle;\n",
       "    }\n",
       "\n",
       "    .dataframe tbody tr th {\n",
       "        vertical-align: top;\n",
       "    }\n",
       "\n",
       "    .dataframe thead th {\n",
       "        text-align: right;\n",
       "    }\n",
       "</style>\n",
       "<table border=\"1\" class=\"dataframe\">\n",
       "  <thead>\n",
       "    <tr style=\"text-align: right;\">\n",
       "      <th></th>\n",
       "      <th>longitude</th>\n",
       "      <th>latitude</th>\n",
       "      <th>housing_median_age</th>\n",
       "      <th>total_rooms</th>\n",
       "      <th>total_bedrooms</th>\n",
       "      <th>population</th>\n",
       "      <th>households</th>\n",
       "      <th>median_income</th>\n",
       "      <th>ocean_proximity</th>\n",
       "      <th>income_cat</th>\n",
       "      <th>rooms_per_household</th>\n",
       "      <th>population_per_household</th>\n",
       "    </tr>\n",
       "  </thead>\n",
       "  <tbody>\n",
       "    <tr>\n",
       "      <th>17606</th>\n",
       "      <td>-121.89</td>\n",
       "      <td>37.29</td>\n",
       "      <td>38.0</td>\n",
       "      <td>1568.0</td>\n",
       "      <td>351.0</td>\n",
       "      <td>710.0</td>\n",
       "      <td>339.0</td>\n",
       "      <td>2.7042</td>\n",
       "      <td>&lt;1H OCEAN</td>\n",
       "      <td>2</td>\n",
       "      <td>4.625369</td>\n",
       "      <td>2.094395</td>\n",
       "    </tr>\n",
       "    <tr>\n",
       "      <th>18632</th>\n",
       "      <td>-121.93</td>\n",
       "      <td>37.05</td>\n",
       "      <td>14.0</td>\n",
       "      <td>679.0</td>\n",
       "      <td>108.0</td>\n",
       "      <td>306.0</td>\n",
       "      <td>113.0</td>\n",
       "      <td>6.4214</td>\n",
       "      <td>&lt;1H OCEAN</td>\n",
       "      <td>5</td>\n",
       "      <td>6.00885</td>\n",
       "      <td>2.707965</td>\n",
       "    </tr>\n",
       "    <tr>\n",
       "      <th>14650</th>\n",
       "      <td>-117.2</td>\n",
       "      <td>32.77</td>\n",
       "      <td>31.0</td>\n",
       "      <td>1952.0</td>\n",
       "      <td>471.0</td>\n",
       "      <td>936.0</td>\n",
       "      <td>462.0</td>\n",
       "      <td>2.8621</td>\n",
       "      <td>NEAR OCEAN</td>\n",
       "      <td>2</td>\n",
       "      <td>4.225108</td>\n",
       "      <td>2.025974</td>\n",
       "    </tr>\n",
       "    <tr>\n",
       "      <th>3230</th>\n",
       "      <td>-119.61</td>\n",
       "      <td>36.31</td>\n",
       "      <td>25.0</td>\n",
       "      <td>1847.0</td>\n",
       "      <td>371.0</td>\n",
       "      <td>1460.0</td>\n",
       "      <td>353.0</td>\n",
       "      <td>1.8839</td>\n",
       "      <td>INLAND</td>\n",
       "      <td>2</td>\n",
       "      <td>5.232295</td>\n",
       "      <td>4.135977</td>\n",
       "    </tr>\n",
       "    <tr>\n",
       "      <th>3555</th>\n",
       "      <td>-118.59</td>\n",
       "      <td>34.23</td>\n",
       "      <td>17.0</td>\n",
       "      <td>6592.0</td>\n",
       "      <td>1525.0</td>\n",
       "      <td>4459.0</td>\n",
       "      <td>1463.0</td>\n",
       "      <td>3.0347</td>\n",
       "      <td>&lt;1H OCEAN</td>\n",
       "      <td>3</td>\n",
       "      <td>4.50581</td>\n",
       "      <td>3.047847</td>\n",
       "    </tr>\n",
       "  </tbody>\n",
       "</table>\n",
       "</div>"
      ],
      "text/plain": [
       "      longitude latitude housing_median_age total_rooms total_bedrooms  \\\n",
       "17606   -121.89    37.29               38.0      1568.0          351.0   \n",
       "18632   -121.93    37.05               14.0       679.0          108.0   \n",
       "14650    -117.2    32.77               31.0      1952.0          471.0   \n",
       "3230    -119.61    36.31               25.0      1847.0          371.0   \n",
       "3555    -118.59    34.23               17.0      6592.0         1525.0   \n",
       "\n",
       "      population households median_income ocean_proximity income_cat  \\\n",
       "17606      710.0      339.0        2.7042       <1H OCEAN          2   \n",
       "18632      306.0      113.0        6.4214       <1H OCEAN          5   \n",
       "14650      936.0      462.0        2.8621      NEAR OCEAN          2   \n",
       "3230      1460.0      353.0        1.8839          INLAND          2   \n",
       "3555      4459.0     1463.0        3.0347       <1H OCEAN          3   \n",
       "\n",
       "      rooms_per_household population_per_household  \n",
       "17606            4.625369                 2.094395  \n",
       "18632             6.00885                 2.707965  \n",
       "14650            4.225108                 2.025974  \n",
       "3230             5.232295                 4.135977  \n",
       "3555              4.50581                 3.047847  "
      ]
     },
     "execution_count": 221,
     "metadata": {},
     "output_type": "execute_result"
    }
   ],
   "source": [
    "housing_extra_attribs = pd.DataFrame(\n",
    "    housing_extra_attribs,\n",
    "    columns=list(housing.columns)+[\"rooms_per_household\", \"population_per_household\"],\n",
    "    index=housing.index)\n",
    "housing_extra_attribs.head()"
   ]
  },
  {
   "cell_type": "code",
   "execution_count": 222,
   "metadata": {},
   "outputs": [],
   "source": [
    "from sklearn.pipeline import Pipeline\n",
    "from sklearn.preprocessing import StandardScaler\n",
    "\n",
    "num_pipeline = Pipeline([\n",
    "        ('imputer', SimpleImputer(strategy=\"median\")),\n",
    "        ('attribs_adder', CombinedAttributesAdder()),\n",
    "        ('std_scaler', StandardScaler()),\n",
    "    ])\n",
    "\n",
    "housing_num_tr = num_pipeline.fit_transform(housing_num)"
   ]
  },
  {
   "cell_type": "code",
   "execution_count": 223,
   "metadata": {},
   "outputs": [],
   "source": [
    "from sklearn.compose import ColumnTransformer\n",
    "\n",
    "num_attribs = list(housing_num)\n",
    "cat_attribs = [\"ocean_proximity\"]\n",
    "\n",
    "full_pipeline = ColumnTransformer([\n",
    "        (\"num\", num_pipeline, num_attribs),\n",
    "        (\"cat\", OneHotEncoder(), cat_attribs),\n",
    "    ])\n",
    "\n",
    "housing_prepared = full_pipeline.fit_transform(housing)"
   ]
  },
  {
   "cell_type": "markdown",
   "metadata": {},
   "source": [
    "## Extending notebook 3 for homework assignment 1"
   ]
  },
  {
   "cell_type": "markdown",
   "metadata": {},
   "source": [
    "### Question 2: Extend l1_n3.ipynb to try a Support Vector Machine regressor (sklearn.svm.SVR) with various hyperparameters"
   ]
  },
  {
   "cell_type": "code",
   "execution_count": 224,
   "metadata": {},
   "outputs": [],
   "source": [
    "from sklearn.svm import SVR"
   ]
  },
  {
   "cell_type": "markdown",
   "metadata": {},
   "source": [
    "##### Grid Search CV"
   ]
  },
  {
   "cell_type": "code",
   "execution_count": 225,
   "metadata": {},
   "outputs": [],
   "source": [
    "from sklearn.model_selection import GridSearchCV\n",
    "param_grid = [{'C':[0.1,1,10],'kernel':['linear']},\n",
    "            { 'C':[0.1,1,10],\n",
    "              'kernel':['rbf'],\n",
    "              'gamma':[1,0.1,0.01]\n",
    "              }]\n",
    "grid = GridSearchCV(SVR(),param_grid,cv=5,\n",
    "                           return_train_score=True,scoring='neg_mean_squared_error', n_jobs=-1,verbose=True)"
   ]
  },
  {
   "cell_type": "code",
   "execution_count": 226,
   "metadata": {},
   "outputs": [
    {
     "name": "stdout",
     "output_type": "stream",
     "text": [
      "Fitting 5 folds for each of 12 candidates, totalling 60 fits\n"
     ]
    },
    {
     "data": {
      "text/plain": [
       "GridSearchCV(cv=5, estimator=SVR(), n_jobs=-1,\n",
       "             param_grid=[{'C': [0.1, 1, 10], 'kernel': ['linear']},\n",
       "                         {'C': [0.1, 1, 10], 'gamma': [1, 0.1, 0.01],\n",
       "                          'kernel': ['rbf']}],\n",
       "             return_train_score=True, scoring='neg_mean_squared_error',\n",
       "             verbose=True)"
      ]
     },
     "execution_count": 226,
     "metadata": {},
     "output_type": "execute_result"
    }
   ],
   "source": [
    "grid.fit(housing_prepared, housing_labels)"
   ]
  },
  {
   "cell_type": "code",
   "execution_count": 227,
   "metadata": {},
   "outputs": [
    {
     "data": {
      "text/plain": [
       "{'C': 10, 'kernel': 'linear'}"
      ]
     },
     "execution_count": 227,
     "metadata": {},
     "output_type": "execute_result"
    }
   ],
   "source": [
    "grid.best_params_"
   ]
  },
  {
   "cell_type": "code",
   "execution_count": 228,
   "metadata": {},
   "outputs": [
    {
     "data": {
      "text/plain": [
       "SVR(C=10, kernel='linear')"
      ]
     },
     "execution_count": 228,
     "metadata": {},
     "output_type": "execute_result"
    }
   ],
   "source": [
    "grid.best_estimator_"
   ]
  },
  {
   "cell_type": "code",
   "execution_count": 229,
   "metadata": {},
   "outputs": [
    {
     "name": "stdout",
     "output_type": "stream",
     "text": [
      "117800.31017688812 {'C': 0.1, 'kernel': 'linear'}\n",
      "108968.2694281854 {'C': 1, 'kernel': 'linear'}\n",
      "81649.4933206491 {'C': 10, 'kernel': 'linear'}\n",
      "118919.9953920614 {'C': 0.1, 'gamma': 1, 'kernel': 'rbf'}\n",
      "118885.04966623483 {'C': 0.1, 'gamma': 0.1, 'kernel': 'rbf'}\n",
      "118905.45885493883 {'C': 0.1, 'gamma': 0.01, 'kernel': 'rbf'}\n",
      "118894.65726808914 {'C': 1, 'gamma': 1, 'kernel': 'rbf'}\n",
      "118556.82411885096 {'C': 1, 'gamma': 0.1, 'kernel': 'rbf'}\n",
      "118743.74833054295 {'C': 1, 'gamma': 0.01, 'kernel': 'rbf'}\n",
      "118658.95230678072 {'C': 10, 'gamma': 1, 'kernel': 'rbf'}\n",
      "115419.67531992932 {'C': 10, 'gamma': 0.1, 'kernel': 'rbf'}\n",
      "117186.1192387479 {'C': 10, 'gamma': 0.01, 'kernel': 'rbf'}\n"
     ]
    }
   ],
   "source": [
    "cvres = grid.cv_results_\n",
    "for mean_score, params in zip(cvres[\"mean_test_score\"], cvres[\"params\"]):\n",
    "    print(np.sqrt(-mean_score), params)"
   ]
  },
  {
   "cell_type": "code",
   "execution_count": 230,
   "metadata": {},
   "outputs": [
    {
     "data": {
      "text/html": [
       "<div>\n",
       "<style scoped>\n",
       "    .dataframe tbody tr th:only-of-type {\n",
       "        vertical-align: middle;\n",
       "    }\n",
       "\n",
       "    .dataframe tbody tr th {\n",
       "        vertical-align: top;\n",
       "    }\n",
       "\n",
       "    .dataframe thead th {\n",
       "        text-align: right;\n",
       "    }\n",
       "</style>\n",
       "<table border=\"1\" class=\"dataframe\">\n",
       "  <thead>\n",
       "    <tr style=\"text-align: right;\">\n",
       "      <th></th>\n",
       "      <th>mean_fit_time</th>\n",
       "      <th>std_fit_time</th>\n",
       "      <th>mean_score_time</th>\n",
       "      <th>std_score_time</th>\n",
       "      <th>param_C</th>\n",
       "      <th>param_kernel</th>\n",
       "      <th>param_gamma</th>\n",
       "      <th>params</th>\n",
       "      <th>split0_test_score</th>\n",
       "      <th>split1_test_score</th>\n",
       "      <th>...</th>\n",
       "      <th>mean_test_score</th>\n",
       "      <th>std_test_score</th>\n",
       "      <th>rank_test_score</th>\n",
       "      <th>split0_train_score</th>\n",
       "      <th>split1_train_score</th>\n",
       "      <th>split2_train_score</th>\n",
       "      <th>split3_train_score</th>\n",
       "      <th>split4_train_score</th>\n",
       "      <th>mean_train_score</th>\n",
       "      <th>std_train_score</th>\n",
       "    </tr>\n",
       "  </thead>\n",
       "  <tbody>\n",
       "    <tr>\n",
       "      <th>0</th>\n",
       "      <td>19.681751</td>\n",
       "      <td>0.072417</td>\n",
       "      <td>2.862765</td>\n",
       "      <td>0.026643</td>\n",
       "      <td>0.1</td>\n",
       "      <td>linear</td>\n",
       "      <td>NaN</td>\n",
       "      <td>{'C': 0.1, 'kernel': 'linear'}</td>\n",
       "      <td>-1.315112e+10</td>\n",
       "      <td>-1.387641e+10</td>\n",
       "      <td>...</td>\n",
       "      <td>-1.387691e+10</td>\n",
       "      <td>3.791130e+08</td>\n",
       "      <td>5</td>\n",
       "      <td>-1.400398e+10</td>\n",
       "      <td>-1.383835e+10</td>\n",
       "      <td>-1.381917e+10</td>\n",
       "      <td>-1.384067e+10</td>\n",
       "      <td>-1.386633e+10</td>\n",
       "      <td>-1.387370e+10</td>\n",
       "      <td>6.684480e+07</td>\n",
       "    </tr>\n",
       "    <tr>\n",
       "      <th>1</th>\n",
       "      <td>19.522096</td>\n",
       "      <td>0.072867</td>\n",
       "      <td>2.865562</td>\n",
       "      <td>0.034548</td>\n",
       "      <td>1</td>\n",
       "      <td>linear</td>\n",
       "      <td>NaN</td>\n",
       "      <td>{'C': 1, 'kernel': 'linear'}</td>\n",
       "      <td>-1.125018e+10</td>\n",
       "      <td>-1.182956e+10</td>\n",
       "      <td>...</td>\n",
       "      <td>-1.187408e+10</td>\n",
       "      <td>3.322747e+08</td>\n",
       "      <td>2</td>\n",
       "      <td>-1.198156e+10</td>\n",
       "      <td>-1.184924e+10</td>\n",
       "      <td>-1.182250e+10</td>\n",
       "      <td>-1.185397e+10</td>\n",
       "      <td>-1.184356e+10</td>\n",
       "      <td>-1.187017e+10</td>\n",
       "      <td>5.672647e+07</td>\n",
       "    </tr>\n",
       "    <tr>\n",
       "      <th>2</th>\n",
       "      <td>18.324581</td>\n",
       "      <td>0.343100</td>\n",
       "      <td>2.847372</td>\n",
       "      <td>0.023801</td>\n",
       "      <td>10</td>\n",
       "      <td>linear</td>\n",
       "      <td>NaN</td>\n",
       "      <td>{'C': 10, 'kernel': 'linear'}</td>\n",
       "      <td>-6.295450e+09</td>\n",
       "      <td>-6.584026e+09</td>\n",
       "      <td>...</td>\n",
       "      <td>-6.666640e+09</td>\n",
       "      <td>2.496191e+08</td>\n",
       "      <td>1</td>\n",
       "      <td>-6.693891e+09</td>\n",
       "      <td>-6.652226e+09</td>\n",
       "      <td>-6.607054e+09</td>\n",
       "      <td>-6.759641e+09</td>\n",
       "      <td>-6.578965e+09</td>\n",
       "      <td>-6.658355e+09</td>\n",
       "      <td>6.402138e+07</td>\n",
       "    </tr>\n",
       "    <tr>\n",
       "      <th>3</th>\n",
       "      <td>22.392199</td>\n",
       "      <td>0.571932</td>\n",
       "      <td>13.453108</td>\n",
       "      <td>0.255117</td>\n",
       "      <td>0.1</td>\n",
       "      <td>rbf</td>\n",
       "      <td>1</td>\n",
       "      <td>{'C': 0.1, 'gamma': 1, 'kernel': 'rbf'}</td>\n",
       "      <td>-1.339928e+10</td>\n",
       "      <td>-1.415632e+10</td>\n",
       "      <td>...</td>\n",
       "      <td>-1.414197e+10</td>\n",
       "      <td>3.859015e+08</td>\n",
       "      <td>12</td>\n",
       "      <td>-1.426616e+10</td>\n",
       "      <td>-1.411047e+10</td>\n",
       "      <td>-1.407865e+10</td>\n",
       "      <td>-1.410180e+10</td>\n",
       "      <td>-1.413707e+10</td>\n",
       "      <td>-1.413883e+10</td>\n",
       "      <td>6.635311e+07</td>\n",
       "    </tr>\n",
       "    <tr>\n",
       "      <th>4</th>\n",
       "      <td>22.997838</td>\n",
       "      <td>0.522585</td>\n",
       "      <td>13.632257</td>\n",
       "      <td>0.070388</td>\n",
       "      <td>0.1</td>\n",
       "      <td>rbf</td>\n",
       "      <td>0.1</td>\n",
       "      <td>{'C': 0.1, 'gamma': 0.1, 'kernel': 'rbf'}</td>\n",
       "      <td>-1.339149e+10</td>\n",
       "      <td>-1.414783e+10</td>\n",
       "      <td>...</td>\n",
       "      <td>-1.413366e+10</td>\n",
       "      <td>3.857823e+08</td>\n",
       "      <td>9</td>\n",
       "      <td>-1.425812e+10</td>\n",
       "      <td>-1.410194e+10</td>\n",
       "      <td>-1.407247e+10</td>\n",
       "      <td>-1.409154e+10</td>\n",
       "      <td>-1.412862e+10</td>\n",
       "      <td>-1.413054e+10</td>\n",
       "      <td>6.631965e+07</td>\n",
       "    </tr>\n",
       "    <tr>\n",
       "      <th>5</th>\n",
       "      <td>23.545629</td>\n",
       "      <td>0.398374</td>\n",
       "      <td>13.731434</td>\n",
       "      <td>0.058042</td>\n",
       "      <td>0.1</td>\n",
       "      <td>rbf</td>\n",
       "      <td>0.01</td>\n",
       "      <td>{'C': 0.1, 'gamma': 0.01, 'kernel': 'rbf'}</td>\n",
       "      <td>-1.339591e+10</td>\n",
       "      <td>-1.415272e+10</td>\n",
       "      <td>...</td>\n",
       "      <td>-1.413851e+10</td>\n",
       "      <td>3.859304e+08</td>\n",
       "      <td>11</td>\n",
       "      <td>-1.426261e+10</td>\n",
       "      <td>-1.410701e+10</td>\n",
       "      <td>-1.407643e+10</td>\n",
       "      <td>-1.409727e+10</td>\n",
       "      <td>-1.413359e+10</td>\n",
       "      <td>-1.413538e+10</td>\n",
       "      <td>6.621701e+07</td>\n",
       "    </tr>\n",
       "    <tr>\n",
       "      <th>6</th>\n",
       "      <td>21.809266</td>\n",
       "      <td>0.405403</td>\n",
       "      <td>13.654177</td>\n",
       "      <td>0.123813</td>\n",
       "      <td>1</td>\n",
       "      <td>rbf</td>\n",
       "      <td>1</td>\n",
       "      <td>{'C': 1, 'gamma': 1, 'kernel': 'rbf'}</td>\n",
       "      <td>-1.339378e+10</td>\n",
       "      <td>-1.415069e+10</td>\n",
       "      <td>...</td>\n",
       "      <td>-1.413594e+10</td>\n",
       "      <td>3.857548e+08</td>\n",
       "      <td>10</td>\n",
       "      <td>-1.426042e+10</td>\n",
       "      <td>-1.410452e+10</td>\n",
       "      <td>-1.407454e+10</td>\n",
       "      <td>-1.409438e+10</td>\n",
       "      <td>-1.412965e+10</td>\n",
       "      <td>-1.413270e+10</td>\n",
       "      <td>6.628097e+07</td>\n",
       "    </tr>\n",
       "    <tr>\n",
       "      <th>7</th>\n",
       "      <td>22.796033</td>\n",
       "      <td>0.335700</td>\n",
       "      <td>13.681777</td>\n",
       "      <td>0.068240</td>\n",
       "      <td>1</td>\n",
       "      <td>rbf</td>\n",
       "      <td>0.1</td>\n",
       "      <td>{'C': 1, 'gamma': 0.1, 'kernel': 'rbf'}</td>\n",
       "      <td>-1.332038e+10</td>\n",
       "      <td>-1.406059e+10</td>\n",
       "      <td>...</td>\n",
       "      <td>-1.405572e+10</td>\n",
       "      <td>3.834745e+08</td>\n",
       "      <td>6</td>\n",
       "      <td>-1.418525e+10</td>\n",
       "      <td>-1.401355e+10</td>\n",
       "      <td>-1.399560e+10</td>\n",
       "      <td>-1.401631e+10</td>\n",
       "      <td>-1.405169e+10</td>\n",
       "      <td>-1.405248e+10</td>\n",
       "      <td>6.882927e+07</td>\n",
       "    </tr>\n",
       "    <tr>\n",
       "      <th>8</th>\n",
       "      <td>23.771397</td>\n",
       "      <td>0.322662</td>\n",
       "      <td>13.757269</td>\n",
       "      <td>0.124707</td>\n",
       "      <td>1</td>\n",
       "      <td>rbf</td>\n",
       "      <td>0.01</td>\n",
       "      <td>{'C': 1, 'gamma': 0.01, 'kernel': 'rbf'}</td>\n",
       "      <td>-1.335967e+10</td>\n",
       "      <td>-1.411261e+10</td>\n",
       "      <td>...</td>\n",
       "      <td>-1.410008e+10</td>\n",
       "      <td>3.849777e+08</td>\n",
       "      <td>8</td>\n",
       "      <td>-1.422436e+10</td>\n",
       "      <td>-1.406769e+10</td>\n",
       "      <td>-1.403973e+10</td>\n",
       "      <td>-1.405625e+10</td>\n",
       "      <td>-1.409651e+10</td>\n",
       "      <td>-1.409691e+10</td>\n",
       "      <td>6.636502e+07</td>\n",
       "    </tr>\n",
       "    <tr>\n",
       "      <th>9</th>\n",
       "      <td>21.734253</td>\n",
       "      <td>0.385688</td>\n",
       "      <td>13.798311</td>\n",
       "      <td>0.232454</td>\n",
       "      <td>10</td>\n",
       "      <td>rbf</td>\n",
       "      <td>1</td>\n",
       "      <td>{'C': 10, 'gamma': 1, 'kernel': 'rbf'}</td>\n",
       "      <td>-1.334353e+10</td>\n",
       "      <td>-1.408626e+10</td>\n",
       "      <td>...</td>\n",
       "      <td>-1.407995e+10</td>\n",
       "      <td>3.836453e+08</td>\n",
       "      <td>7</td>\n",
       "      <td>-1.420855e+10</td>\n",
       "      <td>-1.403615e+10</td>\n",
       "      <td>-1.401883e+10</td>\n",
       "      <td>-1.403503e+10</td>\n",
       "      <td>-1.407734e+10</td>\n",
       "      <td>-1.407518e+10</td>\n",
       "      <td>6.943084e+07</td>\n",
       "    </tr>\n",
       "    <tr>\n",
       "      <th>10</th>\n",
       "      <td>22.908902</td>\n",
       "      <td>0.297287</td>\n",
       "      <td>13.661389</td>\n",
       "      <td>0.151659</td>\n",
       "      <td>10</td>\n",
       "      <td>rbf</td>\n",
       "      <td>0.1</td>\n",
       "      <td>{'C': 10, 'gamma': 0.1, 'kernel': 'rbf'}</td>\n",
       "      <td>-1.261012e+10</td>\n",
       "      <td>-1.332207e+10</td>\n",
       "      <td>...</td>\n",
       "      <td>-1.332170e+10</td>\n",
       "      <td>3.721253e+08</td>\n",
       "      <td>3</td>\n",
       "      <td>-1.344912e+10</td>\n",
       "      <td>-1.327027e+10</td>\n",
       "      <td>-1.326209e+10</td>\n",
       "      <td>-1.328317e+10</td>\n",
       "      <td>-1.332390e+10</td>\n",
       "      <td>-1.331771e+10</td>\n",
       "      <td>6.905545e+07</td>\n",
       "    </tr>\n",
       "    <tr>\n",
       "      <th>11</th>\n",
       "      <td>24.213970</td>\n",
       "      <td>1.295250</td>\n",
       "      <td>14.042098</td>\n",
       "      <td>0.265957</td>\n",
       "      <td>10</td>\n",
       "      <td>rbf</td>\n",
       "      <td>0.01</td>\n",
       "      <td>{'C': 10, 'gamma': 0.01, 'kernel': 'rbf'}</td>\n",
       "      <td>-1.301282e+10</td>\n",
       "      <td>-1.373112e+10</td>\n",
       "      <td>...</td>\n",
       "      <td>-1.373259e+10</td>\n",
       "      <td>3.759388e+08</td>\n",
       "      <td>4</td>\n",
       "      <td>-1.385880e+10</td>\n",
       "      <td>-1.369468e+10</td>\n",
       "      <td>-1.367463e+10</td>\n",
       "      <td>-1.369450e+10</td>\n",
       "      <td>-1.372416e+10</td>\n",
       "      <td>-1.372936e+10</td>\n",
       "      <td>6.662551e+07</td>\n",
       "    </tr>\n",
       "  </tbody>\n",
       "</table>\n",
       "<p>12 rows × 23 columns</p>\n",
       "</div>"
      ],
      "text/plain": [
       "    mean_fit_time  std_fit_time  mean_score_time  std_score_time param_C  \\\n",
       "0       19.681751      0.072417         2.862765        0.026643     0.1   \n",
       "1       19.522096      0.072867         2.865562        0.034548       1   \n",
       "2       18.324581      0.343100         2.847372        0.023801      10   \n",
       "3       22.392199      0.571932        13.453108        0.255117     0.1   \n",
       "4       22.997838      0.522585        13.632257        0.070388     0.1   \n",
       "5       23.545629      0.398374        13.731434        0.058042     0.1   \n",
       "6       21.809266      0.405403        13.654177        0.123813       1   \n",
       "7       22.796033      0.335700        13.681777        0.068240       1   \n",
       "8       23.771397      0.322662        13.757269        0.124707       1   \n",
       "9       21.734253      0.385688        13.798311        0.232454      10   \n",
       "10      22.908902      0.297287        13.661389        0.151659      10   \n",
       "11      24.213970      1.295250        14.042098        0.265957      10   \n",
       "\n",
       "   param_kernel param_gamma                                      params  \\\n",
       "0        linear         NaN              {'C': 0.1, 'kernel': 'linear'}   \n",
       "1        linear         NaN                {'C': 1, 'kernel': 'linear'}   \n",
       "2        linear         NaN               {'C': 10, 'kernel': 'linear'}   \n",
       "3           rbf           1     {'C': 0.1, 'gamma': 1, 'kernel': 'rbf'}   \n",
       "4           rbf         0.1   {'C': 0.1, 'gamma': 0.1, 'kernel': 'rbf'}   \n",
       "5           rbf        0.01  {'C': 0.1, 'gamma': 0.01, 'kernel': 'rbf'}   \n",
       "6           rbf           1       {'C': 1, 'gamma': 1, 'kernel': 'rbf'}   \n",
       "7           rbf         0.1     {'C': 1, 'gamma': 0.1, 'kernel': 'rbf'}   \n",
       "8           rbf        0.01    {'C': 1, 'gamma': 0.01, 'kernel': 'rbf'}   \n",
       "9           rbf           1      {'C': 10, 'gamma': 1, 'kernel': 'rbf'}   \n",
       "10          rbf         0.1    {'C': 10, 'gamma': 0.1, 'kernel': 'rbf'}   \n",
       "11          rbf        0.01   {'C': 10, 'gamma': 0.01, 'kernel': 'rbf'}   \n",
       "\n",
       "    split0_test_score  split1_test_score  ...  mean_test_score  \\\n",
       "0       -1.315112e+10      -1.387641e+10  ...    -1.387691e+10   \n",
       "1       -1.125018e+10      -1.182956e+10  ...    -1.187408e+10   \n",
       "2       -6.295450e+09      -6.584026e+09  ...    -6.666640e+09   \n",
       "3       -1.339928e+10      -1.415632e+10  ...    -1.414197e+10   \n",
       "4       -1.339149e+10      -1.414783e+10  ...    -1.413366e+10   \n",
       "5       -1.339591e+10      -1.415272e+10  ...    -1.413851e+10   \n",
       "6       -1.339378e+10      -1.415069e+10  ...    -1.413594e+10   \n",
       "7       -1.332038e+10      -1.406059e+10  ...    -1.405572e+10   \n",
       "8       -1.335967e+10      -1.411261e+10  ...    -1.410008e+10   \n",
       "9       -1.334353e+10      -1.408626e+10  ...    -1.407995e+10   \n",
       "10      -1.261012e+10      -1.332207e+10  ...    -1.332170e+10   \n",
       "11      -1.301282e+10      -1.373112e+10  ...    -1.373259e+10   \n",
       "\n",
       "    std_test_score  rank_test_score  split0_train_score  split1_train_score  \\\n",
       "0     3.791130e+08                5       -1.400398e+10       -1.383835e+10   \n",
       "1     3.322747e+08                2       -1.198156e+10       -1.184924e+10   \n",
       "2     2.496191e+08                1       -6.693891e+09       -6.652226e+09   \n",
       "3     3.859015e+08               12       -1.426616e+10       -1.411047e+10   \n",
       "4     3.857823e+08                9       -1.425812e+10       -1.410194e+10   \n",
       "5     3.859304e+08               11       -1.426261e+10       -1.410701e+10   \n",
       "6     3.857548e+08               10       -1.426042e+10       -1.410452e+10   \n",
       "7     3.834745e+08                6       -1.418525e+10       -1.401355e+10   \n",
       "8     3.849777e+08                8       -1.422436e+10       -1.406769e+10   \n",
       "9     3.836453e+08                7       -1.420855e+10       -1.403615e+10   \n",
       "10    3.721253e+08                3       -1.344912e+10       -1.327027e+10   \n",
       "11    3.759388e+08                4       -1.385880e+10       -1.369468e+10   \n",
       "\n",
       "    split2_train_score  split3_train_score  split4_train_score  \\\n",
       "0        -1.381917e+10       -1.384067e+10       -1.386633e+10   \n",
       "1        -1.182250e+10       -1.185397e+10       -1.184356e+10   \n",
       "2        -6.607054e+09       -6.759641e+09       -6.578965e+09   \n",
       "3        -1.407865e+10       -1.410180e+10       -1.413707e+10   \n",
       "4        -1.407247e+10       -1.409154e+10       -1.412862e+10   \n",
       "5        -1.407643e+10       -1.409727e+10       -1.413359e+10   \n",
       "6        -1.407454e+10       -1.409438e+10       -1.412965e+10   \n",
       "7        -1.399560e+10       -1.401631e+10       -1.405169e+10   \n",
       "8        -1.403973e+10       -1.405625e+10       -1.409651e+10   \n",
       "9        -1.401883e+10       -1.403503e+10       -1.407734e+10   \n",
       "10       -1.326209e+10       -1.328317e+10       -1.332390e+10   \n",
       "11       -1.367463e+10       -1.369450e+10       -1.372416e+10   \n",
       "\n",
       "    mean_train_score  std_train_score  \n",
       "0      -1.387370e+10     6.684480e+07  \n",
       "1      -1.187017e+10     5.672647e+07  \n",
       "2      -6.658355e+09     6.402138e+07  \n",
       "3      -1.413883e+10     6.635311e+07  \n",
       "4      -1.413054e+10     6.631965e+07  \n",
       "5      -1.413538e+10     6.621701e+07  \n",
       "6      -1.413270e+10     6.628097e+07  \n",
       "7      -1.405248e+10     6.882927e+07  \n",
       "8      -1.409691e+10     6.636502e+07  \n",
       "9      -1.407518e+10     6.943084e+07  \n",
       "10     -1.331771e+10     6.905545e+07  \n",
       "11     -1.372936e+10     6.662551e+07  \n",
       "\n",
       "[12 rows x 23 columns]"
      ]
     },
     "execution_count": 230,
     "metadata": {},
     "output_type": "execute_result"
    }
   ],
   "source": [
    "pd.DataFrame(grid.cv_results_)"
   ]
  },
  {
   "cell_type": "markdown",
   "metadata": {},
   "source": [
    "##### Randomized Search CV using linear kernel"
   ]
  },
  {
   "cell_type": "code",
   "execution_count": 231,
   "metadata": {},
   "outputs": [],
   "source": [
    "from sklearn.model_selection import RandomizedSearchCV\n",
    "from scipy.stats import randint\n",
    "param_dist = [{'C':randint(low=1,high=100),'kernel':['linear']}\n",
    "            ]\n",
    "rnd_grid = RandomizedSearchCV(SVR(),param_dist,cv=5,n_iter=10,\n",
    "                           return_train_score=True,scoring='neg_mean_squared_error', random_state=42,\n",
    "                              n_jobs=-1,verbose=True)"
   ]
  },
  {
   "cell_type": "code",
   "execution_count": 232,
   "metadata": {},
   "outputs": [
    {
     "name": "stdout",
     "output_type": "stream",
     "text": [
      "Fitting 5 folds for each of 10 candidates, totalling 50 fits\n"
     ]
    },
    {
     "data": {
      "text/plain": [
       "RandomizedSearchCV(cv=5, estimator=SVR(), n_jobs=-1,\n",
       "                   param_distributions=[{'C': <scipy.stats._distn_infrastructure.rv_frozen object at 0x000001CB5C96ABB0>,\n",
       "                                         'kernel': ['linear']}],\n",
       "                   random_state=42, return_train_score=True,\n",
       "                   scoring='neg_mean_squared_error', verbose=True)"
      ]
     },
     "execution_count": 232,
     "metadata": {},
     "output_type": "execute_result"
    }
   ],
   "source": [
    "rnd_grid.fit(housing_prepared, housing_labels)"
   ]
  },
  {
   "cell_type": "code",
   "execution_count": 233,
   "metadata": {},
   "outputs": [
    {
     "data": {
      "text/plain": [
       "{'C': 93, 'kernel': 'linear'}"
      ]
     },
     "execution_count": 233,
     "metadata": {},
     "output_type": "execute_result"
    }
   ],
   "source": [
    "rnd_grid.best_params_"
   ]
  },
  {
   "cell_type": "code",
   "execution_count": 234,
   "metadata": {},
   "outputs": [
    {
     "data": {
      "text/plain": [
       "SVR(C=93, kernel='linear')"
      ]
     },
     "execution_count": 234,
     "metadata": {},
     "output_type": "execute_result"
    }
   ],
   "source": [
    "rnd_grid.best_estimator_"
   ]
  },
  {
   "cell_type": "code",
   "execution_count": 235,
   "metadata": {},
   "outputs": [
    {
     "name": "stdout",
     "output_type": "stream",
     "text": [
      "72476.96714901099 {'C': 52, 'kernel': 'linear'}\n",
      "71317.03930784999 {'C': 93, 'kernel': 'linear'}\n",
      "78058.84138448106 {'C': 15, 'kernel': 'linear'}\n",
      "71772.3154302096 {'C': 72, 'kernel': 'linear'}\n",
      "72083.57989550327 {'C': 61, 'kernel': 'linear'}\n",
      "75947.04494688548 {'C': 21, 'kernel': 'linear'}\n",
      "71498.69440494395 {'C': 83, 'kernel': 'linear'}\n",
      "71427.84045379868 {'C': 87, 'kernel': 'linear'}\n",
      "71675.4378881904 {'C': 75, 'kernel': 'linear'}\n",
      "71675.4378881904 {'C': 75, 'kernel': 'linear'}\n"
     ]
    }
   ],
   "source": [
    "cvres = rnd_grid.cv_results_\n",
    "for mean_score, params in zip(cvres[\"mean_test_score\"], cvres[\"params\"]):\n",
    "    print(np.sqrt(-mean_score), params)"
   ]
  },
  {
   "cell_type": "code",
   "execution_count": 236,
   "metadata": {},
   "outputs": [
    {
     "data": {
      "text/html": [
       "<div>\n",
       "<style scoped>\n",
       "    .dataframe tbody tr th:only-of-type {\n",
       "        vertical-align: middle;\n",
       "    }\n",
       "\n",
       "    .dataframe tbody tr th {\n",
       "        vertical-align: top;\n",
       "    }\n",
       "\n",
       "    .dataframe thead th {\n",
       "        text-align: right;\n",
       "    }\n",
       "</style>\n",
       "<table border=\"1\" class=\"dataframe\">\n",
       "  <thead>\n",
       "    <tr style=\"text-align: right;\">\n",
       "      <th></th>\n",
       "      <th>mean_fit_time</th>\n",
       "      <th>std_fit_time</th>\n",
       "      <th>mean_score_time</th>\n",
       "      <th>std_score_time</th>\n",
       "      <th>param_C</th>\n",
       "      <th>param_kernel</th>\n",
       "      <th>params</th>\n",
       "      <th>split0_test_score</th>\n",
       "      <th>split1_test_score</th>\n",
       "      <th>split2_test_score</th>\n",
       "      <th>...</th>\n",
       "      <th>mean_test_score</th>\n",
       "      <th>std_test_score</th>\n",
       "      <th>rank_test_score</th>\n",
       "      <th>split0_train_score</th>\n",
       "      <th>split1_train_score</th>\n",
       "      <th>split2_train_score</th>\n",
       "      <th>split3_train_score</th>\n",
       "      <th>split4_train_score</th>\n",
       "      <th>mean_train_score</th>\n",
       "      <th>std_train_score</th>\n",
       "    </tr>\n",
       "  </thead>\n",
       "  <tbody>\n",
       "    <tr>\n",
       "      <th>0</th>\n",
       "      <td>20.262881</td>\n",
       "      <td>0.427441</td>\n",
       "      <td>2.850428</td>\n",
       "      <td>0.012795</td>\n",
       "      <td>52</td>\n",
       "      <td>linear</td>\n",
       "      <td>{'C': 52, 'kernel': 'linear'}</td>\n",
       "      <td>-4.931273e+09</td>\n",
       "      <td>-5.392689e+09</td>\n",
       "      <td>-5.445445e+09</td>\n",
       "      <td>...</td>\n",
       "      <td>-5.252911e+09</td>\n",
       "      <td>2.436532e+08</td>\n",
       "      <td>8</td>\n",
       "      <td>-5.300389e+09</td>\n",
       "      <td>-5.185431e+09</td>\n",
       "      <td>-5.203196e+09</td>\n",
       "      <td>-5.332177e+09</td>\n",
       "      <td>-5.182532e+09</td>\n",
       "      <td>-5.240745e+09</td>\n",
       "      <td>6.288948e+07</td>\n",
       "    </tr>\n",
       "    <tr>\n",
       "      <th>1</th>\n",
       "      <td>22.900542</td>\n",
       "      <td>3.849370</td>\n",
       "      <td>3.185750</td>\n",
       "      <td>0.378959</td>\n",
       "      <td>93</td>\n",
       "      <td>linear</td>\n",
       "      <td>{'C': 93, 'kernel': 'linear'}</td>\n",
       "      <td>-4.751247e+09</td>\n",
       "      <td>-5.320633e+09</td>\n",
       "      <td>-5.259426e+09</td>\n",
       "      <td>...</td>\n",
       "      <td>-5.086120e+09</td>\n",
       "      <td>2.568731e+08</td>\n",
       "      <td>1</td>\n",
       "      <td>-5.134579e+09</td>\n",
       "      <td>-5.007461e+09</td>\n",
       "      <td>-5.040499e+09</td>\n",
       "      <td>-5.155815e+09</td>\n",
       "      <td>-5.023405e+09</td>\n",
       "      <td>-5.072352e+09</td>\n",
       "      <td>6.076116e+07</td>\n",
       "    </tr>\n",
       "    <tr>\n",
       "      <th>2</th>\n",
       "      <td>25.380828</td>\n",
       "      <td>1.725362</td>\n",
       "      <td>3.672992</td>\n",
       "      <td>0.058954</td>\n",
       "      <td>15</td>\n",
       "      <td>linear</td>\n",
       "      <td>{'C': 15, 'kernel': 'linear'}</td>\n",
       "      <td>-5.742320e+09</td>\n",
       "      <td>-6.048678e+09</td>\n",
       "      <td>-6.319090e+09</td>\n",
       "      <td>...</td>\n",
       "      <td>-6.093183e+09</td>\n",
       "      <td>2.416011e+08</td>\n",
       "      <td>10</td>\n",
       "      <td>-6.105943e+09</td>\n",
       "      <td>-6.069745e+09</td>\n",
       "      <td>-6.040579e+09</td>\n",
       "      <td>-6.203865e+09</td>\n",
       "      <td>-5.994750e+09</td>\n",
       "      <td>-6.082976e+09</td>\n",
       "      <td>7.056622e+07</td>\n",
       "    </tr>\n",
       "    <tr>\n",
       "      <th>3</th>\n",
       "      <td>25.002366</td>\n",
       "      <td>0.699607</td>\n",
       "      <td>3.218014</td>\n",
       "      <td>0.279223</td>\n",
       "      <td>72</td>\n",
       "      <td>linear</td>\n",
       "      <td>{'C': 72, 'kernel': 'linear'}</td>\n",
       "      <td>-4.818772e+09</td>\n",
       "      <td>-5.345711e+09</td>\n",
       "      <td>-5.337864e+09</td>\n",
       "      <td>...</td>\n",
       "      <td>-5.151265e+09</td>\n",
       "      <td>2.506965e+08</td>\n",
       "      <td>6</td>\n",
       "      <td>-5.197145e+09</td>\n",
       "      <td>-5.081746e+09</td>\n",
       "      <td>-5.108338e+09</td>\n",
       "      <td>-5.228036e+09</td>\n",
       "      <td>-5.082914e+09</td>\n",
       "      <td>-5.139636e+09</td>\n",
       "      <td>6.110645e+07</td>\n",
       "    </tr>\n",
       "    <tr>\n",
       "      <th>4</th>\n",
       "      <td>24.621291</td>\n",
       "      <td>0.348647</td>\n",
       "      <td>3.602699</td>\n",
       "      <td>0.041311</td>\n",
       "      <td>61</td>\n",
       "      <td>linear</td>\n",
       "      <td>{'C': 61, 'kernel': 'linear'}</td>\n",
       "      <td>-4.865712e+09</td>\n",
       "      <td>-5.362860e+09</td>\n",
       "      <td>-5.383967e+09</td>\n",
       "      <td>...</td>\n",
       "      <td>-5.196042e+09</td>\n",
       "      <td>2.471261e+08</td>\n",
       "      <td>7</td>\n",
       "      <td>-5.239659e+09</td>\n",
       "      <td>-5.129275e+09</td>\n",
       "      <td>-5.148124e+09</td>\n",
       "      <td>-5.277929e+09</td>\n",
       "      <td>-5.128137e+09</td>\n",
       "      <td>-5.184625e+09</td>\n",
       "      <td>6.216295e+07</td>\n",
       "    </tr>\n",
       "    <tr>\n",
       "      <th>5</th>\n",
       "      <td>24.262433</td>\n",
       "      <td>0.680470</td>\n",
       "      <td>3.642908</td>\n",
       "      <td>0.054657</td>\n",
       "      <td>21</td>\n",
       "      <td>linear</td>\n",
       "      <td>{'C': 21, 'kernel': 'linear'}</td>\n",
       "      <td>-5.445082e+09</td>\n",
       "      <td>-5.760244e+09</td>\n",
       "      <td>-5.987874e+09</td>\n",
       "      <td>...</td>\n",
       "      <td>-5.767954e+09</td>\n",
       "      <td>2.382218e+08</td>\n",
       "      <td>9</td>\n",
       "      <td>-5.804793e+09</td>\n",
       "      <td>-5.727476e+09</td>\n",
       "      <td>-5.716962e+09</td>\n",
       "      <td>-5.862392e+09</td>\n",
       "      <td>-5.683184e+09</td>\n",
       "      <td>-5.758961e+09</td>\n",
       "      <td>6.526267e+07</td>\n",
       "    </tr>\n",
       "    <tr>\n",
       "      <th>6</th>\n",
       "      <td>24.152777</td>\n",
       "      <td>0.706027</td>\n",
       "      <td>3.600311</td>\n",
       "      <td>0.054333</td>\n",
       "      <td>83</td>\n",
       "      <td>linear</td>\n",
       "      <td>{'C': 83, 'kernel': 'linear'}</td>\n",
       "      <td>-4.779085e+09</td>\n",
       "      <td>-5.335911e+09</td>\n",
       "      <td>-5.286450e+09</td>\n",
       "      <td>...</td>\n",
       "      <td>-5.112063e+09</td>\n",
       "      <td>2.533634e+08</td>\n",
       "      <td>3</td>\n",
       "      <td>-5.160218e+09</td>\n",
       "      <td>-5.035712e+09</td>\n",
       "      <td>-5.063811e+09</td>\n",
       "      <td>-5.187268e+09</td>\n",
       "      <td>-5.044533e+09</td>\n",
       "      <td>-5.098309e+09</td>\n",
       "      <td>6.284389e+07</td>\n",
       "    </tr>\n",
       "    <tr>\n",
       "      <th>7</th>\n",
       "      <td>23.619982</td>\n",
       "      <td>0.269852</td>\n",
       "      <td>3.553760</td>\n",
       "      <td>0.048452</td>\n",
       "      <td>87</td>\n",
       "      <td>linear</td>\n",
       "      <td>{'C': 87, 'kernel': 'linear'}</td>\n",
       "      <td>-4.769120e+09</td>\n",
       "      <td>-5.331188e+09</td>\n",
       "      <td>-5.276657e+09</td>\n",
       "      <td>...</td>\n",
       "      <td>-5.101936e+09</td>\n",
       "      <td>2.547957e+08</td>\n",
       "      <td>2</td>\n",
       "      <td>-5.151509e+09</td>\n",
       "      <td>-5.024619e+09</td>\n",
       "      <td>-5.055781e+09</td>\n",
       "      <td>-5.174220e+09</td>\n",
       "      <td>-5.034748e+09</td>\n",
       "      <td>-5.088176e+09</td>\n",
       "      <td>6.222246e+07</td>\n",
       "    </tr>\n",
       "    <tr>\n",
       "      <th>8</th>\n",
       "      <td>24.204878</td>\n",
       "      <td>0.369766</td>\n",
       "      <td>3.649700</td>\n",
       "      <td>0.065131</td>\n",
       "      <td>75</td>\n",
       "      <td>linear</td>\n",
       "      <td>{'C': 75, 'kernel': 'linear'}</td>\n",
       "      <td>-4.801455e+09</td>\n",
       "      <td>-5.344774e+09</td>\n",
       "      <td>-5.318795e+09</td>\n",
       "      <td>...</td>\n",
       "      <td>-5.137368e+09</td>\n",
       "      <td>2.526170e+08</td>\n",
       "      <td>4</td>\n",
       "      <td>-5.180683e+09</td>\n",
       "      <td>-5.067866e+09</td>\n",
       "      <td>-5.092407e+09</td>\n",
       "      <td>-5.214476e+09</td>\n",
       "      <td>-5.070259e+09</td>\n",
       "      <td>-5.125138e+09</td>\n",
       "      <td>6.071180e+07</td>\n",
       "    </tr>\n",
       "    <tr>\n",
       "      <th>9</th>\n",
       "      <td>20.978250</td>\n",
       "      <td>3.533354</td>\n",
       "      <td>3.145064</td>\n",
       "      <td>0.797861</td>\n",
       "      <td>75</td>\n",
       "      <td>linear</td>\n",
       "      <td>{'C': 75, 'kernel': 'linear'}</td>\n",
       "      <td>-4.801455e+09</td>\n",
       "      <td>-5.344774e+09</td>\n",
       "      <td>-5.318795e+09</td>\n",
       "      <td>...</td>\n",
       "      <td>-5.137368e+09</td>\n",
       "      <td>2.526170e+08</td>\n",
       "      <td>4</td>\n",
       "      <td>-5.180683e+09</td>\n",
       "      <td>-5.067866e+09</td>\n",
       "      <td>-5.092407e+09</td>\n",
       "      <td>-5.214476e+09</td>\n",
       "      <td>-5.070259e+09</td>\n",
       "      <td>-5.125138e+09</td>\n",
       "      <td>6.071180e+07</td>\n",
       "    </tr>\n",
       "  </tbody>\n",
       "</table>\n",
       "<p>10 rows × 22 columns</p>\n",
       "</div>"
      ],
      "text/plain": [
       "   mean_fit_time  std_fit_time  mean_score_time  std_score_time param_C  \\\n",
       "0      20.262881      0.427441         2.850428        0.012795      52   \n",
       "1      22.900542      3.849370         3.185750        0.378959      93   \n",
       "2      25.380828      1.725362         3.672992        0.058954      15   \n",
       "3      25.002366      0.699607         3.218014        0.279223      72   \n",
       "4      24.621291      0.348647         3.602699        0.041311      61   \n",
       "5      24.262433      0.680470         3.642908        0.054657      21   \n",
       "6      24.152777      0.706027         3.600311        0.054333      83   \n",
       "7      23.619982      0.269852         3.553760        0.048452      87   \n",
       "8      24.204878      0.369766         3.649700        0.065131      75   \n",
       "9      20.978250      3.533354         3.145064        0.797861      75   \n",
       "\n",
       "  param_kernel                         params  split0_test_score  \\\n",
       "0       linear  {'C': 52, 'kernel': 'linear'}      -4.931273e+09   \n",
       "1       linear  {'C': 93, 'kernel': 'linear'}      -4.751247e+09   \n",
       "2       linear  {'C': 15, 'kernel': 'linear'}      -5.742320e+09   \n",
       "3       linear  {'C': 72, 'kernel': 'linear'}      -4.818772e+09   \n",
       "4       linear  {'C': 61, 'kernel': 'linear'}      -4.865712e+09   \n",
       "5       linear  {'C': 21, 'kernel': 'linear'}      -5.445082e+09   \n",
       "6       linear  {'C': 83, 'kernel': 'linear'}      -4.779085e+09   \n",
       "7       linear  {'C': 87, 'kernel': 'linear'}      -4.769120e+09   \n",
       "8       linear  {'C': 75, 'kernel': 'linear'}      -4.801455e+09   \n",
       "9       linear  {'C': 75, 'kernel': 'linear'}      -4.801455e+09   \n",
       "\n",
       "   split1_test_score  split2_test_score  ...  mean_test_score  std_test_score  \\\n",
       "0      -5.392689e+09      -5.445445e+09  ...    -5.252911e+09    2.436532e+08   \n",
       "1      -5.320633e+09      -5.259426e+09  ...    -5.086120e+09    2.568731e+08   \n",
       "2      -6.048678e+09      -6.319090e+09  ...    -6.093183e+09    2.416011e+08   \n",
       "3      -5.345711e+09      -5.337864e+09  ...    -5.151265e+09    2.506965e+08   \n",
       "4      -5.362860e+09      -5.383967e+09  ...    -5.196042e+09    2.471261e+08   \n",
       "5      -5.760244e+09      -5.987874e+09  ...    -5.767954e+09    2.382218e+08   \n",
       "6      -5.335911e+09      -5.286450e+09  ...    -5.112063e+09    2.533634e+08   \n",
       "7      -5.331188e+09      -5.276657e+09  ...    -5.101936e+09    2.547957e+08   \n",
       "8      -5.344774e+09      -5.318795e+09  ...    -5.137368e+09    2.526170e+08   \n",
       "9      -5.344774e+09      -5.318795e+09  ...    -5.137368e+09    2.526170e+08   \n",
       "\n",
       "   rank_test_score  split0_train_score  split1_train_score  \\\n",
       "0                8       -5.300389e+09       -5.185431e+09   \n",
       "1                1       -5.134579e+09       -5.007461e+09   \n",
       "2               10       -6.105943e+09       -6.069745e+09   \n",
       "3                6       -5.197145e+09       -5.081746e+09   \n",
       "4                7       -5.239659e+09       -5.129275e+09   \n",
       "5                9       -5.804793e+09       -5.727476e+09   \n",
       "6                3       -5.160218e+09       -5.035712e+09   \n",
       "7                2       -5.151509e+09       -5.024619e+09   \n",
       "8                4       -5.180683e+09       -5.067866e+09   \n",
       "9                4       -5.180683e+09       -5.067866e+09   \n",
       "\n",
       "   split2_train_score  split3_train_score  split4_train_score  \\\n",
       "0       -5.203196e+09       -5.332177e+09       -5.182532e+09   \n",
       "1       -5.040499e+09       -5.155815e+09       -5.023405e+09   \n",
       "2       -6.040579e+09       -6.203865e+09       -5.994750e+09   \n",
       "3       -5.108338e+09       -5.228036e+09       -5.082914e+09   \n",
       "4       -5.148124e+09       -5.277929e+09       -5.128137e+09   \n",
       "5       -5.716962e+09       -5.862392e+09       -5.683184e+09   \n",
       "6       -5.063811e+09       -5.187268e+09       -5.044533e+09   \n",
       "7       -5.055781e+09       -5.174220e+09       -5.034748e+09   \n",
       "8       -5.092407e+09       -5.214476e+09       -5.070259e+09   \n",
       "9       -5.092407e+09       -5.214476e+09       -5.070259e+09   \n",
       "\n",
       "   mean_train_score  std_train_score  \n",
       "0     -5.240745e+09     6.288948e+07  \n",
       "1     -5.072352e+09     6.076116e+07  \n",
       "2     -6.082976e+09     7.056622e+07  \n",
       "3     -5.139636e+09     6.110645e+07  \n",
       "4     -5.184625e+09     6.216295e+07  \n",
       "5     -5.758961e+09     6.526267e+07  \n",
       "6     -5.098309e+09     6.284389e+07  \n",
       "7     -5.088176e+09     6.222246e+07  \n",
       "8     -5.125138e+09     6.071180e+07  \n",
       "9     -5.125138e+09     6.071180e+07  \n",
       "\n",
       "[10 rows x 22 columns]"
      ]
     },
     "execution_count": 236,
     "metadata": {},
     "output_type": "execute_result"
    }
   ],
   "source": [
    "pd.DataFrame(rnd_grid.cv_results_)"
   ]
  },
  {
   "cell_type": "markdown",
   "metadata": {},
   "source": [
    "#### Randomized Search CV using rbf kernel"
   ]
  },
  {
   "cell_type": "code",
   "execution_count": 238,
   "metadata": {},
   "outputs": [],
   "source": [
    "from sklearn.model_selection import RandomizedSearchCV\n",
    "from scipy.stats import randint\n",
    "param_dist = [\n",
    "            { 'C':randint(low=1,high=100),\n",
    "              'kernel':['rbf'],\n",
    "              'gamma':randint(low=1,high=10)\n",
    "              }]\n",
    "rnd_grid2 = RandomizedSearchCV(SVR(),param_dist,cv=5,n_iter=10,\n",
    "                           return_train_score=True,scoring='neg_mean_squared_error', random_state=42,\n",
    "                              n_jobs=-1,verbose=True)"
   ]
  },
  {
   "cell_type": "code",
   "execution_count": 239,
   "metadata": {},
   "outputs": [
    {
     "name": "stdout",
     "output_type": "stream",
     "text": [
      "Fitting 5 folds for each of 10 candidates, totalling 50 fits\n"
     ]
    },
    {
     "data": {
      "text/plain": [
       "RandomizedSearchCV(cv=5, estimator=SVR(), n_jobs=-1,\n",
       "                   param_distributions=[{'C': <scipy.stats._distn_infrastructure.rv_frozen object at 0x000001CB4BFA83D0>,\n",
       "                                         'gamma': <scipy.stats._distn_infrastructure.rv_frozen object at 0x000001CB4BFA8CD0>,\n",
       "                                         'kernel': ['rbf']}],\n",
       "                   random_state=42, return_train_score=True,\n",
       "                   scoring='neg_mean_squared_error', verbose=True)"
      ]
     },
     "execution_count": 239,
     "metadata": {},
     "output_type": "execute_result"
    }
   ],
   "source": [
    "rnd_grid2.fit(housing_prepared, housing_labels)"
   ]
  },
  {
   "cell_type": "code",
   "execution_count": 240,
   "metadata": {},
   "outputs": [
    {
     "name": "stdout",
     "output_type": "stream",
     "text": [
      "118902.28337886001 {'C': 52, 'gamma': 8, 'kernel': 'rbf'}\n",
      "118839.99060403393 {'C': 61, 'gamma': 5, 'kernel': 'rbf'}\n",
      "118870.0554388319 {'C': 83, 'gamma': 7, 'kernel': 'rbf'}\n",
      "118889.77017584811 {'C': 75, 'gamma': 8, 'kernel': 'rbf'}\n",
      "118846.26919997799 {'C': 24, 'gamma': 3, 'kernel': 'rbf'}\n",
      "118901.30913338567 {'C': 22, 'gamma': 5, 'kernel': 'rbf'}\n",
      "118921.57470456738 {'C': 2, 'gamma': 8, 'kernel': 'rbf'}\n",
      "118902.05838172584 {'C': 30, 'gamma': 6, 'kernel': 'rbf'}\n",
      "118919.08578826314 {'C': 2, 'gamma': 5, 'kernel': 'rbf'}\n",
      "118901.22836289476 {'C': 33, 'gamma': 6, 'kernel': 'rbf'}\n"
     ]
    }
   ],
   "source": [
    "cvres = rnd_grid2.cv_results_\n",
    "for mean_score, params in zip(cvres[\"mean_test_score\"], cvres[\"params\"]):\n",
    "    print(np.sqrt(-mean_score), params)"
   ]
  },
  {
   "cell_type": "code",
   "execution_count": 241,
   "metadata": {},
   "outputs": [
    {
     "data": {
      "text/plain": [
       "{'C': 61, 'gamma': 5, 'kernel': 'rbf'}"
      ]
     },
     "execution_count": 241,
     "metadata": {},
     "output_type": "execute_result"
    }
   ],
   "source": [
    "rnd_grid2.best_params_"
   ]
  },
  {
   "cell_type": "code",
   "execution_count": 242,
   "metadata": {},
   "outputs": [
    {
     "data": {
      "text/plain": [
       "SVR(C=61, gamma=5)"
      ]
     },
     "execution_count": 242,
     "metadata": {},
     "output_type": "execute_result"
    }
   ],
   "source": [
    "rnd_grid2.best_estimator_"
   ]
  },
  {
   "cell_type": "code",
   "execution_count": 243,
   "metadata": {},
   "outputs": [
    {
     "data": {
      "text/html": [
       "<div>\n",
       "<style scoped>\n",
       "    .dataframe tbody tr th:only-of-type {\n",
       "        vertical-align: middle;\n",
       "    }\n",
       "\n",
       "    .dataframe tbody tr th {\n",
       "        vertical-align: top;\n",
       "    }\n",
       "\n",
       "    .dataframe thead th {\n",
       "        text-align: right;\n",
       "    }\n",
       "</style>\n",
       "<table border=\"1\" class=\"dataframe\">\n",
       "  <thead>\n",
       "    <tr style=\"text-align: right;\">\n",
       "      <th></th>\n",
       "      <th>mean_fit_time</th>\n",
       "      <th>std_fit_time</th>\n",
       "      <th>mean_score_time</th>\n",
       "      <th>std_score_time</th>\n",
       "      <th>param_C</th>\n",
       "      <th>param_gamma</th>\n",
       "      <th>param_kernel</th>\n",
       "      <th>params</th>\n",
       "      <th>split0_test_score</th>\n",
       "      <th>split1_test_score</th>\n",
       "      <th>...</th>\n",
       "      <th>mean_test_score</th>\n",
       "      <th>std_test_score</th>\n",
       "      <th>rank_test_score</th>\n",
       "      <th>split0_train_score</th>\n",
       "      <th>split1_train_score</th>\n",
       "      <th>split2_train_score</th>\n",
       "      <th>split3_train_score</th>\n",
       "      <th>split4_train_score</th>\n",
       "      <th>mean_train_score</th>\n",
       "      <th>std_train_score</th>\n",
       "    </tr>\n",
       "  </thead>\n",
       "  <tbody>\n",
       "    <tr>\n",
       "      <th>0</th>\n",
       "      <td>33.882431</td>\n",
       "      <td>0.497326</td>\n",
       "      <td>16.055563</td>\n",
       "      <td>1.019672</td>\n",
       "      <td>52</td>\n",
       "      <td>8</td>\n",
       "      <td>rbf</td>\n",
       "      <td>{'C': 52, 'gamma': 8, 'kernel': 'rbf'}</td>\n",
       "      <td>-1.339456e+10</td>\n",
       "      <td>-1.414763e+10</td>\n",
       "      <td>...</td>\n",
       "      <td>-1.413775e+10</td>\n",
       "      <td>3.867149e+08</td>\n",
       "      <td>8</td>\n",
       "      <td>-1.425210e+10</td>\n",
       "      <td>-1.409201e+10</td>\n",
       "      <td>-1.406945e+10</td>\n",
       "      <td>-1.408602e+10</td>\n",
       "      <td>-1.412700e+10</td>\n",
       "      <td>-1.412531e+10</td>\n",
       "      <td>6.610675e+07</td>\n",
       "    </tr>\n",
       "    <tr>\n",
       "      <th>1</th>\n",
       "      <td>34.116124</td>\n",
       "      <td>1.354618</td>\n",
       "      <td>15.264254</td>\n",
       "      <td>1.408074</td>\n",
       "      <td>61</td>\n",
       "      <td>5</td>\n",
       "      <td>rbf</td>\n",
       "      <td>{'C': 61, 'gamma': 5, 'kernel': 'rbf'}</td>\n",
       "      <td>-1.338077e+10</td>\n",
       "      <td>-1.412935e+10</td>\n",
       "      <td>...</td>\n",
       "      <td>-1.412294e+10</td>\n",
       "      <td>3.865042e+08</td>\n",
       "      <td>1</td>\n",
       "      <td>-1.423580e+10</td>\n",
       "      <td>-1.407108e+10</td>\n",
       "      <td>-1.405344e+10</td>\n",
       "      <td>-1.407171e+10</td>\n",
       "      <td>-1.411242e+10</td>\n",
       "      <td>-1.410889e+10</td>\n",
       "      <td>6.633859e+07</td>\n",
       "    </tr>\n",
       "    <tr>\n",
       "      <th>2</th>\n",
       "      <td>35.702732</td>\n",
       "      <td>0.169887</td>\n",
       "      <td>17.159998</td>\n",
       "      <td>0.146655</td>\n",
       "      <td>83</td>\n",
       "      <td>7</td>\n",
       "      <td>rbf</td>\n",
       "      <td>{'C': 83, 'gamma': 7, 'kernel': 'rbf'}</td>\n",
       "      <td>-1.338722e+10</td>\n",
       "      <td>-1.413743e+10</td>\n",
       "      <td>...</td>\n",
       "      <td>-1.413009e+10</td>\n",
       "      <td>3.868464e+08</td>\n",
       "      <td>3</td>\n",
       "      <td>-1.423877e+10</td>\n",
       "      <td>-1.407570e+10</td>\n",
       "      <td>-1.405735e+10</td>\n",
       "      <td>-1.407432e+10</td>\n",
       "      <td>-1.411465e+10</td>\n",
       "      <td>-1.411216e+10</td>\n",
       "      <td>6.603361e+07</td>\n",
       "    </tr>\n",
       "    <tr>\n",
       "      <th>3</th>\n",
       "      <td>35.220819</td>\n",
       "      <td>0.100000</td>\n",
       "      <td>17.175050</td>\n",
       "      <td>0.158861</td>\n",
       "      <td>75</td>\n",
       "      <td>8</td>\n",
       "      <td>rbf</td>\n",
       "      <td>{'C': 75, 'gamma': 8, 'kernel': 'rbf'}</td>\n",
       "      <td>-1.339226e+10</td>\n",
       "      <td>-1.414414e+10</td>\n",
       "      <td>...</td>\n",
       "      <td>-1.413478e+10</td>\n",
       "      <td>3.863778e+08</td>\n",
       "      <td>4</td>\n",
       "      <td>-1.424566e+10</td>\n",
       "      <td>-1.408425e+10</td>\n",
       "      <td>-1.406192e+10</td>\n",
       "      <td>-1.407943e+10</td>\n",
       "      <td>-1.412033e+10</td>\n",
       "      <td>-1.411832e+10</td>\n",
       "      <td>6.644334e+07</td>\n",
       "    </tr>\n",
       "    <tr>\n",
       "      <th>4</th>\n",
       "      <td>30.844777</td>\n",
       "      <td>1.309853</td>\n",
       "      <td>16.649433</td>\n",
       "      <td>0.178891</td>\n",
       "      <td>24</td>\n",
       "      <td>3</td>\n",
       "      <td>rbf</td>\n",
       "      <td>{'C': 24, 'gamma': 3, 'kernel': 'rbf'}</td>\n",
       "      <td>-1.338378e+10</td>\n",
       "      <td>-1.413116e+10</td>\n",
       "      <td>...</td>\n",
       "      <td>-1.412444e+10</td>\n",
       "      <td>3.857356e+08</td>\n",
       "      <td>2</td>\n",
       "      <td>-1.424632e+10</td>\n",
       "      <td>-1.407976e+10</td>\n",
       "      <td>-1.406059e+10</td>\n",
       "      <td>-1.407949e+10</td>\n",
       "      <td>-1.411887e+10</td>\n",
       "      <td>-1.411701e+10</td>\n",
       "      <td>6.738513e+07</td>\n",
       "    </tr>\n",
       "    <tr>\n",
       "      <th>5</th>\n",
       "      <td>38.864548</td>\n",
       "      <td>1.244252</td>\n",
       "      <td>16.834296</td>\n",
       "      <td>1.194202</td>\n",
       "      <td>22</td>\n",
       "      <td>5</td>\n",
       "      <td>rbf</td>\n",
       "      <td>{'C': 22, 'gamma': 5, 'kernel': 'rbf'}</td>\n",
       "      <td>-1.339447e+10</td>\n",
       "      <td>-1.414825e+10</td>\n",
       "      <td>...</td>\n",
       "      <td>-1.413752e+10</td>\n",
       "      <td>3.865670e+08</td>\n",
       "      <td>6</td>\n",
       "      <td>-1.425738e+10</td>\n",
       "      <td>-1.409804e+10</td>\n",
       "      <td>-1.407381e+10</td>\n",
       "      <td>-1.409210e+10</td>\n",
       "      <td>-1.413077e+10</td>\n",
       "      <td>-1.413042e+10</td>\n",
       "      <td>6.609092e+07</td>\n",
       "    </tr>\n",
       "    <tr>\n",
       "      <th>6</th>\n",
       "      <td>34.308560</td>\n",
       "      <td>4.869699</td>\n",
       "      <td>16.196616</td>\n",
       "      <td>2.126852</td>\n",
       "      <td>2</td>\n",
       "      <td>8</td>\n",
       "      <td>rbf</td>\n",
       "      <td>{'C': 2, 'gamma': 8, 'kernel': 'rbf'}</td>\n",
       "      <td>-1.339964e+10</td>\n",
       "      <td>-1.415657e+10</td>\n",
       "      <td>...</td>\n",
       "      <td>-1.414234e+10</td>\n",
       "      <td>3.859194e+08</td>\n",
       "      <td>10</td>\n",
       "      <td>-1.426618e+10</td>\n",
       "      <td>-1.411037e+10</td>\n",
       "      <td>-1.407872e+10</td>\n",
       "      <td>-1.410187e+10</td>\n",
       "      <td>-1.413718e+10</td>\n",
       "      <td>-1.413887e+10</td>\n",
       "      <td>6.634922e+07</td>\n",
       "    </tr>\n",
       "    <tr>\n",
       "      <th>7</th>\n",
       "      <td>31.310101</td>\n",
       "      <td>0.199826</td>\n",
       "      <td>14.532691</td>\n",
       "      <td>0.366582</td>\n",
       "      <td>30</td>\n",
       "      <td>6</td>\n",
       "      <td>rbf</td>\n",
       "      <td>{'C': 30, 'gamma': 6, 'kernel': 'rbf'}</td>\n",
       "      <td>-1.339452e+10</td>\n",
       "      <td>-1.414802e+10</td>\n",
       "      <td>...</td>\n",
       "      <td>-1.413770e+10</td>\n",
       "      <td>3.866766e+08</td>\n",
       "      <td>7</td>\n",
       "      <td>-1.425596e+10</td>\n",
       "      <td>-1.409635e+10</td>\n",
       "      <td>-1.407304e+10</td>\n",
       "      <td>-1.409030e+10</td>\n",
       "      <td>-1.413014e+10</td>\n",
       "      <td>-1.412916e+10</td>\n",
       "      <td>6.605154e+07</td>\n",
       "    </tr>\n",
       "    <tr>\n",
       "      <th>8</th>\n",
       "      <td>33.149252</td>\n",
       "      <td>0.956997</td>\n",
       "      <td>16.538941</td>\n",
       "      <td>1.377607</td>\n",
       "      <td>2</td>\n",
       "      <td>5</td>\n",
       "      <td>rbf</td>\n",
       "      <td>{'C': 2, 'gamma': 5, 'kernel': 'rbf'}</td>\n",
       "      <td>-1.339912e+10</td>\n",
       "      <td>-1.415601e+10</td>\n",
       "      <td>...</td>\n",
       "      <td>-1.414175e+10</td>\n",
       "      <td>3.858825e+08</td>\n",
       "      <td>9</td>\n",
       "      <td>-1.426561e+10</td>\n",
       "      <td>-1.410978e+10</td>\n",
       "      <td>-1.407817e+10</td>\n",
       "      <td>-1.410127e+10</td>\n",
       "      <td>-1.413655e+10</td>\n",
       "      <td>-1.413828e+10</td>\n",
       "      <td>6.635006e+07</td>\n",
       "    </tr>\n",
       "    <tr>\n",
       "      <th>9</th>\n",
       "      <td>30.061609</td>\n",
       "      <td>3.740213</td>\n",
       "      <td>11.892802</td>\n",
       "      <td>3.509630</td>\n",
       "      <td>33</td>\n",
       "      <td>6</td>\n",
       "      <td>rbf</td>\n",
       "      <td>{'C': 33, 'gamma': 6, 'kernel': 'rbf'}</td>\n",
       "      <td>-1.339464e+10</td>\n",
       "      <td>-1.414685e+10</td>\n",
       "      <td>...</td>\n",
       "      <td>-1.413750e+10</td>\n",
       "      <td>3.866087e+08</td>\n",
       "      <td>5</td>\n",
       "      <td>-1.425566e+10</td>\n",
       "      <td>-1.409456e+10</td>\n",
       "      <td>-1.407247e+10</td>\n",
       "      <td>-1.408944e+10</td>\n",
       "      <td>-1.412998e+10</td>\n",
       "      <td>-1.412842e+10</td>\n",
       "      <td>6.631707e+07</td>\n",
       "    </tr>\n",
       "  </tbody>\n",
       "</table>\n",
       "<p>10 rows × 23 columns</p>\n",
       "</div>"
      ],
      "text/plain": [
       "   mean_fit_time  std_fit_time  mean_score_time  std_score_time param_C  \\\n",
       "0      33.882431      0.497326        16.055563        1.019672      52   \n",
       "1      34.116124      1.354618        15.264254        1.408074      61   \n",
       "2      35.702732      0.169887        17.159998        0.146655      83   \n",
       "3      35.220819      0.100000        17.175050        0.158861      75   \n",
       "4      30.844777      1.309853        16.649433        0.178891      24   \n",
       "5      38.864548      1.244252        16.834296        1.194202      22   \n",
       "6      34.308560      4.869699        16.196616        2.126852       2   \n",
       "7      31.310101      0.199826        14.532691        0.366582      30   \n",
       "8      33.149252      0.956997        16.538941        1.377607       2   \n",
       "9      30.061609      3.740213        11.892802        3.509630      33   \n",
       "\n",
       "  param_gamma param_kernel                                  params  \\\n",
       "0           8          rbf  {'C': 52, 'gamma': 8, 'kernel': 'rbf'}   \n",
       "1           5          rbf  {'C': 61, 'gamma': 5, 'kernel': 'rbf'}   \n",
       "2           7          rbf  {'C': 83, 'gamma': 7, 'kernel': 'rbf'}   \n",
       "3           8          rbf  {'C': 75, 'gamma': 8, 'kernel': 'rbf'}   \n",
       "4           3          rbf  {'C': 24, 'gamma': 3, 'kernel': 'rbf'}   \n",
       "5           5          rbf  {'C': 22, 'gamma': 5, 'kernel': 'rbf'}   \n",
       "6           8          rbf   {'C': 2, 'gamma': 8, 'kernel': 'rbf'}   \n",
       "7           6          rbf  {'C': 30, 'gamma': 6, 'kernel': 'rbf'}   \n",
       "8           5          rbf   {'C': 2, 'gamma': 5, 'kernel': 'rbf'}   \n",
       "9           6          rbf  {'C': 33, 'gamma': 6, 'kernel': 'rbf'}   \n",
       "\n",
       "   split0_test_score  split1_test_score  ...  mean_test_score  std_test_score  \\\n",
       "0      -1.339456e+10      -1.414763e+10  ...    -1.413775e+10    3.867149e+08   \n",
       "1      -1.338077e+10      -1.412935e+10  ...    -1.412294e+10    3.865042e+08   \n",
       "2      -1.338722e+10      -1.413743e+10  ...    -1.413009e+10    3.868464e+08   \n",
       "3      -1.339226e+10      -1.414414e+10  ...    -1.413478e+10    3.863778e+08   \n",
       "4      -1.338378e+10      -1.413116e+10  ...    -1.412444e+10    3.857356e+08   \n",
       "5      -1.339447e+10      -1.414825e+10  ...    -1.413752e+10    3.865670e+08   \n",
       "6      -1.339964e+10      -1.415657e+10  ...    -1.414234e+10    3.859194e+08   \n",
       "7      -1.339452e+10      -1.414802e+10  ...    -1.413770e+10    3.866766e+08   \n",
       "8      -1.339912e+10      -1.415601e+10  ...    -1.414175e+10    3.858825e+08   \n",
       "9      -1.339464e+10      -1.414685e+10  ...    -1.413750e+10    3.866087e+08   \n",
       "\n",
       "   rank_test_score  split0_train_score  split1_train_score  \\\n",
       "0                8       -1.425210e+10       -1.409201e+10   \n",
       "1                1       -1.423580e+10       -1.407108e+10   \n",
       "2                3       -1.423877e+10       -1.407570e+10   \n",
       "3                4       -1.424566e+10       -1.408425e+10   \n",
       "4                2       -1.424632e+10       -1.407976e+10   \n",
       "5                6       -1.425738e+10       -1.409804e+10   \n",
       "6               10       -1.426618e+10       -1.411037e+10   \n",
       "7                7       -1.425596e+10       -1.409635e+10   \n",
       "8                9       -1.426561e+10       -1.410978e+10   \n",
       "9                5       -1.425566e+10       -1.409456e+10   \n",
       "\n",
       "   split2_train_score  split3_train_score  split4_train_score  \\\n",
       "0       -1.406945e+10       -1.408602e+10       -1.412700e+10   \n",
       "1       -1.405344e+10       -1.407171e+10       -1.411242e+10   \n",
       "2       -1.405735e+10       -1.407432e+10       -1.411465e+10   \n",
       "3       -1.406192e+10       -1.407943e+10       -1.412033e+10   \n",
       "4       -1.406059e+10       -1.407949e+10       -1.411887e+10   \n",
       "5       -1.407381e+10       -1.409210e+10       -1.413077e+10   \n",
       "6       -1.407872e+10       -1.410187e+10       -1.413718e+10   \n",
       "7       -1.407304e+10       -1.409030e+10       -1.413014e+10   \n",
       "8       -1.407817e+10       -1.410127e+10       -1.413655e+10   \n",
       "9       -1.407247e+10       -1.408944e+10       -1.412998e+10   \n",
       "\n",
       "   mean_train_score  std_train_score  \n",
       "0     -1.412531e+10     6.610675e+07  \n",
       "1     -1.410889e+10     6.633859e+07  \n",
       "2     -1.411216e+10     6.603361e+07  \n",
       "3     -1.411832e+10     6.644334e+07  \n",
       "4     -1.411701e+10     6.738513e+07  \n",
       "5     -1.413042e+10     6.609092e+07  \n",
       "6     -1.413887e+10     6.634922e+07  \n",
       "7     -1.412916e+10     6.605154e+07  \n",
       "8     -1.413828e+10     6.635006e+07  \n",
       "9     -1.412842e+10     6.631707e+07  \n",
       "\n",
       "[10 rows x 23 columns]"
      ]
     },
     "execution_count": 243,
     "metadata": {},
     "output_type": "execute_result"
    }
   ],
   "source": [
    "pd.DataFrame(rnd_grid2.cv_results_)"
   ]
  },
  {
   "cell_type": "code",
   "execution_count": 244,
   "metadata": {},
   "outputs": [],
   "source": [
    "from sklearn.metrics import mean_squared_error\n",
    "final_model = grid.best_estimator_\n",
    "\n",
    "X_test = strat_test_set.drop(\"median_house_value\", axis=1)\n",
    "y_test = strat_test_set[\"median_house_value\"].copy()\n",
    "\n",
    "X_test_prepared = full_pipeline.transform(X_test)\n",
    "final_predictions = final_model.predict(X_test_prepared)\n",
    "\n",
    "final_mse = mean_squared_error(y_test, final_predictions)\n",
    "final_rmse = np.sqrt(final_mse)"
   ]
  },
  {
   "cell_type": "code",
   "execution_count": 245,
   "metadata": {},
   "outputs": [
    {
     "data": {
      "text/plain": [
       "78069.60329439449"
      ]
     },
     "execution_count": 245,
     "metadata": {},
     "output_type": "execute_result"
    }
   ],
   "source": [
    "final_rmse"
   ]
  },
  {
   "cell_type": "code",
   "execution_count": 246,
   "metadata": {},
   "outputs": [
    {
     "data": {
      "text/plain": [
       "array([75391.8615527 , 80658.49694054])"
      ]
     },
     "execution_count": 246,
     "metadata": {},
     "output_type": "execute_result"
    }
   ],
   "source": [
    "from scipy import stats\n",
    "\n",
    "confidence = 0.95\n",
    "squared_errors = (final_predictions - y_test) ** 2\n",
    "np.sqrt(stats.t.interval(confidence, len(squared_errors) - 1,\n",
    "                         loc=squared_errors.mean(),\n",
    "                         scale=stats.sem(squared_errors)))"
   ]
  },
  {
   "cell_type": "code",
   "execution_count": 250,
   "metadata": {},
   "outputs": [
    {
     "data": {
      "text/plain": [
       "69209.34884560181"
      ]
     },
     "execution_count": 250,
     "metadata": {},
     "output_type": "execute_result"
    }
   ],
   "source": [
    "final_model = rnd_grid.best_estimator_\n",
    "\n",
    "X_test = strat_test_set.drop(\"median_house_value\", axis=1)\n",
    "y_test = strat_test_set[\"median_house_value\"].copy()\n",
    "\n",
    "X_test_prepared = full_pipeline.transform(X_test)\n",
    "final_predictions = final_model.predict(X_test_prepared)\n",
    "\n",
    "final_mse = mean_squared_error(y_test, final_predictions)\n",
    "final_rmse = np.sqrt(final_mse)\n",
    "final_rmse"
   ]
  },
  {
   "cell_type": "markdown",
   "metadata": {},
   "source": [
    "#### How does the best SVR predictor perform?\n"
   ]
  },
  {
   "cell_type": "markdown",
   "metadata": {},
   "source": [
    "The best model achieves the score of 78069 when evaluated using 5-fold cross validation. This is worse than the Random Forest Regressor done in the original notebook 3. The linear kernel seems better than the RBF kernel. The value of\n",
    "C is the maximum of the tested C values. Randomized search tends to find better hyperparameters than grid search cv in\n",
    "the same amount of time, especially for linear kernel. In the randomized search, using linear kernel, the error is smaller and closer to the Random forest regressor. In terms of time, the SVR performs slower than the random forest regressor.\n"
   ]
  },
  {
   "cell_type": "markdown",
   "metadata": {},
   "source": [
    "## Question 3: Add a transformer in the preparation pipeline to select only the most important attributes."
   ]
  },
  {
   "cell_type": "markdown",
   "metadata": {},
   "source": [
    "#### This is the transformer below:"
   ]
  },
  {
   "cell_type": "code",
   "execution_count": 252,
   "metadata": {},
   "outputs": [],
   "source": [
    "class TopFeatureSelector(BaseEstimator,TransformerMixin):\n",
    "    def __init__(self,threshold):\n",
    "        self.threshold=threshold\n",
    "       \n",
    "    def fit(self, X, y):\n",
    "        corr=X.corrwith(y)\n",
    "        self.important_features=corr.index[(np.abs(corr)>self.threshold)].tolist()\n",
    "        return self\n",
    "\n",
    "    def transform(self, X):\n",
    "        return X[self.important_features]"
   ]
  },
  {
   "cell_type": "markdown",
   "metadata": {},
   "source": [
    "####  Insert a transformer into the preparation pipeline"
   ]
  },
  {
   "cell_type": "code",
   "execution_count": 254,
   "metadata": {},
   "outputs": [
    {
     "data": {
      "text/plain": [
       "Pipeline(steps=[('feature_selection', TopFeatureSelector(threshold=0.1))])"
      ]
     },
     "execution_count": 254,
     "metadata": {},
     "output_type": "execute_result"
    }
   ],
   "source": [
    "feature_selection_pipeline = Pipeline([\n",
    "    ('feature_selection', TopFeatureSelector( 0.1))\n",
    "])\n",
    "feature_selection_pipeline"
   ]
  },
  {
   "cell_type": "code",
   "execution_count": 256,
   "metadata": {},
   "outputs": [],
   "source": [
    "top_features = feature_selection_pipeline.fit_transform(housing,housing_labels)"
   ]
  },
  {
   "cell_type": "markdown",
   "metadata": {},
   "source": [
    "#### Showing the dataframe with the top features"
   ]
  },
  {
   "cell_type": "code",
   "execution_count": 258,
   "metadata": {},
   "outputs": [
    {
     "data": {
      "text/html": [
       "<div>\n",
       "<style scoped>\n",
       "    .dataframe tbody tr th:only-of-type {\n",
       "        vertical-align: middle;\n",
       "    }\n",
       "\n",
       "    .dataframe tbody tr th {\n",
       "        vertical-align: top;\n",
       "    }\n",
       "\n",
       "    .dataframe thead th {\n",
       "        text-align: right;\n",
       "    }\n",
       "</style>\n",
       "<table border=\"1\" class=\"dataframe\">\n",
       "  <thead>\n",
       "    <tr style=\"text-align: right;\">\n",
       "      <th></th>\n",
       "      <th>latitude</th>\n",
       "      <th>housing_median_age</th>\n",
       "      <th>total_rooms</th>\n",
       "      <th>median_income</th>\n",
       "    </tr>\n",
       "  </thead>\n",
       "  <tbody>\n",
       "    <tr>\n",
       "      <th>17606</th>\n",
       "      <td>37.29</td>\n",
       "      <td>38.0</td>\n",
       "      <td>1568.0</td>\n",
       "      <td>2.7042</td>\n",
       "    </tr>\n",
       "    <tr>\n",
       "      <th>18632</th>\n",
       "      <td>37.05</td>\n",
       "      <td>14.0</td>\n",
       "      <td>679.0</td>\n",
       "      <td>6.4214</td>\n",
       "    </tr>\n",
       "    <tr>\n",
       "      <th>14650</th>\n",
       "      <td>32.77</td>\n",
       "      <td>31.0</td>\n",
       "      <td>1952.0</td>\n",
       "      <td>2.8621</td>\n",
       "    </tr>\n",
       "    <tr>\n",
       "      <th>3230</th>\n",
       "      <td>36.31</td>\n",
       "      <td>25.0</td>\n",
       "      <td>1847.0</td>\n",
       "      <td>1.8839</td>\n",
       "    </tr>\n",
       "    <tr>\n",
       "      <th>3555</th>\n",
       "      <td>34.23</td>\n",
       "      <td>17.0</td>\n",
       "      <td>6592.0</td>\n",
       "      <td>3.0347</td>\n",
       "    </tr>\n",
       "    <tr>\n",
       "      <th>...</th>\n",
       "      <td>...</td>\n",
       "      <td>...</td>\n",
       "      <td>...</td>\n",
       "      <td>...</td>\n",
       "    </tr>\n",
       "    <tr>\n",
       "      <th>6563</th>\n",
       "      <td>34.20</td>\n",
       "      <td>46.0</td>\n",
       "      <td>1271.0</td>\n",
       "      <td>4.9312</td>\n",
       "    </tr>\n",
       "    <tr>\n",
       "      <th>12053</th>\n",
       "      <td>33.88</td>\n",
       "      <td>40.0</td>\n",
       "      <td>1196.0</td>\n",
       "      <td>2.0682</td>\n",
       "    </tr>\n",
       "    <tr>\n",
       "      <th>13908</th>\n",
       "      <td>34.09</td>\n",
       "      <td>9.0</td>\n",
       "      <td>4855.0</td>\n",
       "      <td>3.2723</td>\n",
       "    </tr>\n",
       "    <tr>\n",
       "      <th>11159</th>\n",
       "      <td>33.82</td>\n",
       "      <td>31.0</td>\n",
       "      <td>1960.0</td>\n",
       "      <td>4.0625</td>\n",
       "    </tr>\n",
       "    <tr>\n",
       "      <th>15775</th>\n",
       "      <td>37.77</td>\n",
       "      <td>52.0</td>\n",
       "      <td>3095.0</td>\n",
       "      <td>3.5750</td>\n",
       "    </tr>\n",
       "  </tbody>\n",
       "</table>\n",
       "<p>16512 rows × 4 columns</p>\n",
       "</div>"
      ],
      "text/plain": [
       "       latitude  housing_median_age  total_rooms  median_income\n",
       "17606     37.29                38.0       1568.0         2.7042\n",
       "18632     37.05                14.0        679.0         6.4214\n",
       "14650     32.77                31.0       1952.0         2.8621\n",
       "3230      36.31                25.0       1847.0         1.8839\n",
       "3555      34.23                17.0       6592.0         3.0347\n",
       "...         ...                 ...          ...            ...\n",
       "6563      34.20                46.0       1271.0         4.9312\n",
       "12053     33.88                40.0       1196.0         2.0682\n",
       "13908     34.09                 9.0       4855.0         3.2723\n",
       "11159     33.82                31.0       1960.0         4.0625\n",
       "15775     37.77                52.0       3095.0         3.5750\n",
       "\n",
       "[16512 rows x 4 columns]"
      ]
     },
     "execution_count": 258,
     "metadata": {},
     "output_type": "execute_result"
    }
   ],
   "source": [
    "top_features"
   ]
  }
 ],
 "metadata": {
  "kernelspec": {
   "display_name": "Python 3",
   "language": "python",
   "name": "python3"
  },
  "language_info": {
   "codemirror_mode": {
    "name": "ipython",
    "version": 3
   },
   "file_extension": ".py",
   "mimetype": "text/x-python",
   "name": "python",
   "nbconvert_exporter": "python",
   "pygments_lexer": "ipython3",
   "version": "3.9.1"
  },
  "nav_menu": {
   "height": "279px",
   "width": "309px"
  },
  "toc": {
   "nav_menu": {},
   "number_sections": true,
   "sideBar": true,
   "skip_h1_title": false,
   "toc_cell": false,
   "toc_position": {},
   "toc_section_display": "block",
   "toc_window_display": false
  }
 },
 "nbformat": 4,
 "nbformat_minor": 4
}
