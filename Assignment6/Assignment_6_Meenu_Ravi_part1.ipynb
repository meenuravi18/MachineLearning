{
 "cells": [
  {
   "cell_type": "markdown",
   "id": "41166c79",
   "metadata": {},
   "source": [
    "## Assignment 6\n",
    "### Meenu Ravi\n",
    "### May 14 2021"
   ]
  },
  {
   "cell_type": "code",
   "execution_count": 65,
   "id": "9fe0ac5c",
   "metadata": {},
   "outputs": [
    {
     "name": "stdout",
     "output_type": "stream",
     "text": [
      "The tensorboard extension is already loaded. To reload it, use:\n",
      "  %reload_ext tensorboard\n"
     ]
    }
   ],
   "source": [
    "import sys\n",
    "import sklearn\n",
    "import tensorflow as tf\n",
    "from tensorflow import keras\n",
    "from sklearn.model_selection import train_test_split\n",
    "%load_ext tensorboard\n",
    "\n",
    "import numpy as np\n",
    "import os\n",
    "\n",
    "np.random.seed(42)\n",
    "import math\n",
    "%matplotlib inline\n",
    "import matplotlib as mpl\n",
    "import matplotlib.pyplot as plt"
   ]
  },
  {
   "cell_type": "markdown",
   "id": "283e6e9e",
   "metadata": {},
   "source": [
    "#### Question 1: In Keras download CIFAR10 dataset usingkeras.datasets.cifar10.load_data().The dataset is composed of 60,000 32×32-pixel color images (50,000 for training,10,000 for testing) with 10 classesBuild a DNN with 20 hidden layers of 100 neurons each (that’s too many,but it’s the point of this exercise).  Use He initialization and the ELU activationfunction.  At the output layer use a softmax output layer with 10 neurons"
   ]
  },
  {
   "cell_type": "code",
   "execution_count": 2,
   "id": "df37218d",
   "metadata": {},
   "outputs": [],
   "source": [
    "(X_train, y_train), (X_test, y_test)=keras.datasets.cifar10.load_data()\n",
    "X_train, X_valid, y_train, y_valid = train_test_split(X_train, y_train, test_size=10000, random_state=42)"
   ]
  },
  {
   "cell_type": "code",
   "execution_count": 3,
   "id": "43968083",
   "metadata": {},
   "outputs": [],
   "source": [
    "model = keras.models.Sequential([\n",
    "    keras.layers.Flatten(input_shape=[32, 32, 3]),])"
   ]
  },
  {
   "cell_type": "code",
   "execution_count": 4,
   "id": "dd412268",
   "metadata": {},
   "outputs": [],
   "source": [
    "for i in range(0,20):\n",
    "     model.add(keras.layers.Dense(100, activation='elu',kernel_initializer=\"he_normal\"))\n"
   ]
  },
  {
   "cell_type": "code",
   "execution_count": 5,
   "id": "ad8ff2ec",
   "metadata": {},
   "outputs": [],
   "source": [
    "model.add(keras.layers.Dense(10, activation=\"softmax\"))"
   ]
  },
  {
   "cell_type": "code",
   "execution_count": 6,
   "id": "7c0c58fa",
   "metadata": {},
   "outputs": [],
   "source": [
    "model.compile(loss=\"sparse_categorical_crossentropy\",\n",
    "              optimizer=keras.optimizers.Nadam(lr=5e-5),\n",
    "              metrics=[\"accuracy\"])"
   ]
  },
  {
   "cell_type": "code",
   "execution_count": 7,
   "id": "e78161e3",
   "metadata": {},
   "outputs": [],
   "source": [
    "run_logdir = os.path.join(os.curdir, \"my_cifar10_logs\", \"run_{:03d}\".format(1))\n",
    "run_logdir\n",
    "\n",
    "checkpoint = keras.callbacks.ModelCheckpoint(\"my_cifar10_model.h5\", save_best_only=True)"
   ]
  },
  {
   "cell_type": "code",
   "execution_count": 8,
   "id": "859c859f",
   "metadata": {},
   "outputs": [
    {
     "name": "stdout",
     "output_type": "stream",
     "text": [
      "Model: \"sequential\"\n",
      "_________________________________________________________________\n",
      "Layer (type)                 Output Shape              Param #   \n",
      "=================================================================\n",
      "flatten (Flatten)            (None, 3072)              0         \n",
      "_________________________________________________________________\n",
      "dense (Dense)                (None, 100)               307300    \n",
      "_________________________________________________________________\n",
      "dense_1 (Dense)              (None, 100)               10100     \n",
      "_________________________________________________________________\n",
      "dense_2 (Dense)              (None, 100)               10100     \n",
      "_________________________________________________________________\n",
      "dense_3 (Dense)              (None, 100)               10100     \n",
      "_________________________________________________________________\n",
      "dense_4 (Dense)              (None, 100)               10100     \n",
      "_________________________________________________________________\n",
      "dense_5 (Dense)              (None, 100)               10100     \n",
      "_________________________________________________________________\n",
      "dense_6 (Dense)              (None, 100)               10100     \n",
      "_________________________________________________________________\n",
      "dense_7 (Dense)              (None, 100)               10100     \n",
      "_________________________________________________________________\n",
      "dense_8 (Dense)              (None, 100)               10100     \n",
      "_________________________________________________________________\n",
      "dense_9 (Dense)              (None, 100)               10100     \n",
      "_________________________________________________________________\n",
      "dense_10 (Dense)             (None, 100)               10100     \n",
      "_________________________________________________________________\n",
      "dense_11 (Dense)             (None, 100)               10100     \n",
      "_________________________________________________________________\n",
      "dense_12 (Dense)             (None, 100)               10100     \n",
      "_________________________________________________________________\n",
      "dense_13 (Dense)             (None, 100)               10100     \n",
      "_________________________________________________________________\n",
      "dense_14 (Dense)             (None, 100)               10100     \n",
      "_________________________________________________________________\n",
      "dense_15 (Dense)             (None, 100)               10100     \n",
      "_________________________________________________________________\n",
      "dense_16 (Dense)             (None, 100)               10100     \n",
      "_________________________________________________________________\n",
      "dense_17 (Dense)             (None, 100)               10100     \n",
      "_________________________________________________________________\n",
      "dense_18 (Dense)             (None, 100)               10100     \n",
      "_________________________________________________________________\n",
      "dense_19 (Dense)             (None, 100)               10100     \n",
      "_________________________________________________________________\n",
      "dense_20 (Dense)             (None, 10)                1010      \n",
      "=================================================================\n",
      "Total params: 500,210\n",
      "Trainable params: 500,210\n",
      "Non-trainable params: 0\n",
      "_________________________________________________________________\n"
     ]
    }
   ],
   "source": [
    "model.summary()"
   ]
  },
  {
   "cell_type": "markdown",
   "id": "997968f3",
   "metadata": {},
   "source": [
    "#### Question 2: 10 pointsUsing Nadam optimization and early stopping, train the network.Remember  to  search  for  the  right  learning  rate  each  time  you  change  themodel’s architecture or hyperparameters."
   ]
  },
  {
   "cell_type": "code",
   "execution_count": 9,
   "id": "0d07b57d",
   "metadata": {},
   "outputs": [],
   "source": [
    "model.compile(loss=\"sparse_categorical_crossentropy\",\n",
    "              optimizer=keras.optimizers.Nadam(lr=5e-5),\n",
    "              metrics=[\"accuracy\"])"
   ]
  },
  {
   "cell_type": "code",
   "execution_count": 10,
   "id": "5d9cac3c",
   "metadata": {},
   "outputs": [],
   "source": [
    "early_stopping = keras.callbacks.EarlyStopping(patience=10, restore_best_weights=True)"
   ]
  },
  {
   "cell_type": "code",
   "execution_count": 71,
   "id": "51899732",
   "metadata": {},
   "outputs": [],
   "source": [
    "# run_logdir = os.path.join(os.curdir, \"my_cifar10_logs\", \"run_{:03d}\".format(1))\n",
    "# tensorboard = keras.callbacks.TensorBoard(run_logdir)"
   ]
  },
  {
   "cell_type": "code",
   "execution_count": 11,
   "id": "0e3171d6",
   "metadata": {},
   "outputs": [
    {
     "name": "stdout",
     "output_type": "stream",
     "text": [
      "Epoch 1/100\n",
      "1250/1250 [==============================] - 26s 16ms/step - loss: 16.4657 - accuracy: 0.1440 - val_loss: 2.2710 - val_accuracy: 0.2034\n",
      "Epoch 2/100\n",
      "1250/1250 [==============================] - 19s 15ms/step - loss: 2.1423 - accuracy: 0.2375 - val_loss: 2.0597 - val_accuracy: 0.2389\n",
      "Epoch 3/100\n",
      "1250/1250 [==============================] - 19s 15ms/step - loss: 1.9953 - accuracy: 0.2705 - val_loss: 1.9290 - val_accuracy: 0.3029\n",
      "Epoch 4/100\n",
      "1250/1250 [==============================] - 19s 16ms/step - loss: 1.9193 - accuracy: 0.2967 - val_loss: 1.8660 - val_accuracy: 0.3223\n",
      "Epoch 5/100\n",
      "1250/1250 [==============================] - 19s 15ms/step - loss: 1.8537 - accuracy: 0.3235 - val_loss: 1.8205 - val_accuracy: 0.3319\n",
      "Epoch 6/100\n",
      "1250/1250 [==============================] - 20s 16ms/step - loss: 1.8040 - accuracy: 0.3448 - val_loss: 1.7958 - val_accuracy: 0.3467\n",
      "Epoch 7/100\n",
      "1250/1250 [==============================] - 19s 15ms/step - loss: 1.7615 - accuracy: 0.3650 - val_loss: 1.7579 - val_accuracy: 0.3631\n",
      "Epoch 8/100\n",
      "1250/1250 [==============================] - 20s 16ms/step - loss: 1.7223 - accuracy: 0.3794 - val_loss: 1.7365 - val_accuracy: 0.3675\n",
      "Epoch 9/100\n",
      "1250/1250 [==============================] - 19s 15ms/step - loss: 1.6829 - accuracy: 0.3917 - val_loss: 1.7205 - val_accuracy: 0.3764\n",
      "Epoch 10/100\n",
      "1250/1250 [==============================] - 20s 16ms/step - loss: 1.6662 - accuracy: 0.4013 - val_loss: 1.6843 - val_accuracy: 0.3907\n",
      "Epoch 11/100\n",
      "1250/1250 [==============================] - 19s 16ms/step - loss: 1.6281 - accuracy: 0.4129 - val_loss: 1.6680 - val_accuracy: 0.3978\n",
      "Epoch 12/100\n",
      "1250/1250 [==============================] - 20s 16ms/step - loss: 1.6007 - accuracy: 0.4262 - val_loss: 1.6404 - val_accuracy: 0.4113\n",
      "Epoch 13/100\n",
      "1250/1250 [==============================] - 22s 18ms/step - loss: 1.5959 - accuracy: 0.4232 - val_loss: 1.6336 - val_accuracy: 0.4147\n",
      "Epoch 14/100\n",
      "1250/1250 [==============================] - 22s 18ms/step - loss: 1.5716 - accuracy: 0.4371 - val_loss: 1.6507 - val_accuracy: 0.4123\n",
      "Epoch 15/100\n",
      "1250/1250 [==============================] - 22s 18ms/step - loss: 1.5582 - accuracy: 0.4376 - val_loss: 1.6222 - val_accuracy: 0.4215\n",
      "Epoch 16/100\n",
      "1250/1250 [==============================] - 23s 18ms/step - loss: 1.5402 - accuracy: 0.4455 - val_loss: 1.6495 - val_accuracy: 0.4153\n",
      "Epoch 17/100\n",
      "1250/1250 [==============================] - 22s 18ms/step - loss: 1.5208 - accuracy: 0.4514 - val_loss: 1.5986 - val_accuracy: 0.4243\n",
      "Epoch 18/100\n",
      "1250/1250 [==============================] - 22s 17ms/step - loss: 1.5030 - accuracy: 0.4637 - val_loss: 1.5939 - val_accuracy: 0.4360\n",
      "Epoch 19/100\n",
      "1250/1250 [==============================] - 20s 16ms/step - loss: 1.4858 - accuracy: 0.4671 - val_loss: 1.5920 - val_accuracy: 0.4329\n",
      "Epoch 20/100\n",
      "1250/1250 [==============================] - 20s 16ms/step - loss: 1.4823 - accuracy: 0.4684 - val_loss: 1.6055 - val_accuracy: 0.4329\n",
      "Epoch 21/100\n",
      "1250/1250 [==============================] - 20s 16ms/step - loss: 1.4665 - accuracy: 0.4766 - val_loss: 1.6122 - val_accuracy: 0.4256\n",
      "Epoch 22/100\n",
      "1250/1250 [==============================] - 19s 16ms/step - loss: 1.4607 - accuracy: 0.4766 - val_loss: 1.6165 - val_accuracy: 0.4272\n",
      "Epoch 23/100\n",
      "1250/1250 [==============================] - 19s 16ms/step - loss: 1.4564 - accuracy: 0.4767 - val_loss: 1.5875 - val_accuracy: 0.4335\n",
      "Epoch 24/100\n",
      "1250/1250 [==============================] - 20s 16ms/step - loss: 1.4393 - accuracy: 0.4832 - val_loss: 1.5890 - val_accuracy: 0.4324\n",
      "Epoch 25/100\n",
      "1250/1250 [==============================] - 23s 18ms/step - loss: 1.4221 - accuracy: 0.4882 - val_loss: 1.5867 - val_accuracy: 0.4356\n",
      "Epoch 26/100\n",
      "1250/1250 [==============================] - 19s 15ms/step - loss: 1.4087 - accuracy: 0.4935 - val_loss: 1.5843 - val_accuracy: 0.4383\n",
      "Epoch 27/100\n",
      "1250/1250 [==============================] - 20s 16ms/step - loss: 1.4035 - accuracy: 0.4955 - val_loss: 1.5913 - val_accuracy: 0.4388\n",
      "Epoch 28/100\n",
      "1250/1250 [==============================] - 23s 18ms/step - loss: 1.3826 - accuracy: 0.4995 - val_loss: 1.5555 - val_accuracy: 0.4459\n",
      "Epoch 29/100\n",
      "1250/1250 [==============================] - 21s 17ms/step - loss: 1.3820 - accuracy: 0.5015 - val_loss: 1.6424 - val_accuracy: 0.4297\n",
      "Epoch 30/100\n",
      "1250/1250 [==============================] - 20s 16ms/step - loss: 1.3742 - accuracy: 0.5056 - val_loss: 1.5653 - val_accuracy: 0.4478\n",
      "Epoch 31/100\n",
      "1250/1250 [==============================] - 18s 14ms/step - loss: 1.3503 - accuracy: 0.5146 - val_loss: 1.5817 - val_accuracy: 0.4463\n",
      "Epoch 32/100\n",
      "1250/1250 [==============================] - 21s 17ms/step - loss: 1.3492 - accuracy: 0.5131 - val_loss: 1.5850 - val_accuracy: 0.4456\n",
      "Epoch 33/100\n",
      "1250/1250 [==============================] - 27s 22ms/step - loss: 1.3444 - accuracy: 0.5110 - val_loss: 1.5776 - val_accuracy: 0.4488\n",
      "Epoch 34/100\n",
      "1250/1250 [==============================] - 23s 18ms/step - loss: 1.3319 - accuracy: 0.5233 - val_loss: 1.5416 - val_accuracy: 0.4561\n",
      "Epoch 35/100\n",
      "1250/1250 [==============================] - 22s 18ms/step - loss: 1.3412 - accuracy: 0.5207 - val_loss: 1.5620 - val_accuracy: 0.4550\n",
      "Epoch 36/100\n",
      "1250/1250 [==============================] - 21s 17ms/step - loss: 1.3134 - accuracy: 0.5310 - val_loss: 1.5655 - val_accuracy: 0.4543\n",
      "Epoch 37/100\n",
      "1250/1250 [==============================] - 21s 17ms/step - loss: 1.2978 - accuracy: 0.5321 - val_loss: 1.5694 - val_accuracy: 0.4495\n",
      "Epoch 38/100\n",
      "1250/1250 [==============================] - 21s 17ms/step - loss: 1.2971 - accuracy: 0.5351 - val_loss: 1.5696 - val_accuracy: 0.4563\n",
      "Epoch 39/100\n",
      "1250/1250 [==============================] - 21s 17ms/step - loss: 1.2801 - accuracy: 0.5372 - val_loss: 1.6094 - val_accuracy: 0.4365\n",
      "Epoch 40/100\n",
      "1250/1250 [==============================] - 23s 18ms/step - loss: 1.2839 - accuracy: 0.5387 - val_loss: 1.5707 - val_accuracy: 0.4565\n",
      "Epoch 41/100\n",
      "1250/1250 [==============================] - 22s 18ms/step - loss: 1.2728 - accuracy: 0.5413 - val_loss: 1.5756 - val_accuracy: 0.4490\n",
      "Epoch 42/100\n",
      "1250/1250 [==============================] - 21s 17ms/step - loss: 1.2684 - accuracy: 0.5431 - val_loss: 1.5847 - val_accuracy: 0.4537\n",
      "Epoch 43/100\n",
      "1250/1250 [==============================] - 21s 17ms/step - loss: 1.2593 - accuracy: 0.5475 - val_loss: 1.5762 - val_accuracy: 0.4550\n",
      "Epoch 44/100\n",
      "1250/1250 [==============================] - 24s 19ms/step - loss: 1.2490 - accuracy: 0.5515 - val_loss: 1.5914 - val_accuracy: 0.4489\n"
     ]
    }
   ],
   "source": [
    "history = model.fit(X_train, y_train, epochs=100,\n",
    "                    validation_data=(X_valid, y_valid),\n",
    "                   callbacks=[early_stopping, checkpoint])"
   ]
  },
  {
   "cell_type": "code",
   "execution_count": 12,
   "id": "b94b3fee",
   "metadata": {},
   "outputs": [
    {
     "name": "stdout",
     "output_type": "stream",
     "text": [
      "313/313 [==============================] - 1s 3ms/step - loss: 1.5416 - accuracy: 0.4561\n"
     ]
    },
    {
     "data": {
      "text/plain": [
       "[1.5416029691696167, 0.4560999870300293]"
      ]
     },
     "execution_count": 12,
     "metadata": {},
     "output_type": "execute_result"
    }
   ],
   "source": [
    "model = keras.models.load_model(\"my_cifar10_model.h5\")\n",
    "model.evaluate(X_valid, y_valid)"
   ]
  },
  {
   "cell_type": "markdown",
   "id": "9559c55c",
   "metadata": {},
   "source": [
    "I searched for the best learning rate and found it to be 5e-5. The accuarcy of this model is 46%"
   ]
  },
  {
   "cell_type": "markdown",
   "id": "6149e011",
   "metadata": {},
   "source": [
    "#### Question 3: 10 pointsAdd  Batch  Normalization  and  compare  the  learning  curves:  Is  it  convergingfaster than before?  Does it produce a better model?  How does it affect trainingspeed?"
   ]
  },
  {
   "cell_type": "code",
   "execution_count": 23,
   "id": "8bfbf10b",
   "metadata": {},
   "outputs": [],
   "source": [
    "keras.backend.clear_session()\n",
    "np.random.seed(42)\n",
    "tf.random.set_seed(42)"
   ]
  },
  {
   "cell_type": "code",
   "execution_count": 24,
   "id": "2bddcbab",
   "metadata": {},
   "outputs": [],
   "source": [
    "model = keras.models.Sequential([\n",
    "    keras.layers.Flatten(input_shape=[32, 32, 3]),\n",
    "    keras.layers.BatchNormalization(),\n",
    "])"
   ]
  },
  {
   "cell_type": "code",
   "execution_count": 25,
   "id": "c9aa9bff",
   "metadata": {},
   "outputs": [],
   "source": [
    "for i in range(0,20):\n",
    "    model.add(keras.layers.Dense(100,activation='elu',kernel_initializer=\"he_normal\"))\n",
    "    model.add(keras.layers.BatchNormalization())"
   ]
  },
  {
   "cell_type": "code",
   "execution_count": 26,
   "id": "0dbbd035",
   "metadata": {},
   "outputs": [],
   "source": [
    "model.add(keras.layers.Dense(10, activation=\"softmax\"))"
   ]
  },
  {
   "cell_type": "code",
   "execution_count": 27,
   "id": "99fc7e58",
   "metadata": {},
   "outputs": [],
   "source": [
    "model.compile(loss=\"sparse_categorical_crossentropy\",\n",
    "              optimizer=keras.optimizers.Nadam(lr=5e-4),\n",
    "              metrics=[\"accuracy\"])"
   ]
  },
  {
   "cell_type": "code",
   "execution_count": 28,
   "id": "432ed131",
   "metadata": {},
   "outputs": [],
   "source": [
    "checkpoint = keras.callbacks.ModelCheckpoint(\"my_cifar10_BN_model.h5\", save_best_only=True)"
   ]
  },
  {
   "cell_type": "code",
   "execution_count": 29,
   "id": "561cecf3",
   "metadata": {},
   "outputs": [],
   "source": [
    "early_stopping = keras.callbacks.EarlyStopping(patience=10, restore_best_weights=True)"
   ]
  },
  {
   "cell_type": "code",
   "execution_count": 30,
   "id": "e8306c98",
   "metadata": {},
   "outputs": [],
   "source": [
    "run_logdir = os.path.join(os.curdir, \"my_cifar10_logs\", \"run_BN_{:03d}\".format(1))"
   ]
  },
  {
   "cell_type": "code",
   "execution_count": 31,
   "id": "efd4ea34",
   "metadata": {},
   "outputs": [],
   "source": [
    "tensorboard = keras.callbacks.TensorBoard(run_logdir)"
   ]
  },
  {
   "cell_type": "code",
   "execution_count": 32,
   "id": "b121c538",
   "metadata": {},
   "outputs": [
    {
     "name": "stdout",
     "output_type": "stream",
     "text": [
      "Epoch 1/100\n",
      "1250/1250 [==============================] - 41s 25ms/step - loss: 2.1119 - accuracy: 0.2560 - val_loss: 1.7522 - val_accuracy: 0.3651\n",
      "Epoch 2/100\n",
      "1250/1250 [==============================] - 31s 25ms/step - loss: 1.7446 - accuracy: 0.3776 - val_loss: 1.6309 - val_accuracy: 0.4148\n",
      "Epoch 3/100\n",
      "1250/1250 [==============================] - 32s 25ms/step - loss: 1.6764 - accuracy: 0.4072 - val_loss: 1.5799 - val_accuracy: 0.4355 - l\n",
      "Epoch 4/100\n",
      "1250/1250 [==============================] - 32s 26ms/step - loss: 1.6056 - accuracy: 0.4309 - val_loss: 1.5229 - val_accuracy: 0.4569\n",
      "Epoch 5/100\n",
      "1250/1250 [==============================] - 32s 26ms/step - loss: 1.5519 - accuracy: 0.4527 - val_loss: 1.4816 - val_accuracy: 0.4725\n",
      "Epoch 6/100\n",
      "1250/1250 [==============================] - 32s 25ms/step - loss: 1.5245 - accuracy: 0.4620 - val_loss: 1.4782 - val_accuracy: 0.4818\n",
      "Epoch 7/100\n",
      "1250/1250 [==============================] - 32s 26ms/step - loss: 1.4728 - accuracy: 0.4795 - val_loss: 1.4565 - val_accuracy: 0.4824\n",
      "Epoch 8/100\n",
      "1250/1250 [==============================] - 32s 25ms/step - loss: 1.4372 - accuracy: 0.4923 - val_loss: 1.4351 - val_accuracy: 0.4983\n",
      "Epoch 9/100\n",
      "1250/1250 [==============================] - 33s 26ms/step - loss: 1.4185 - accuracy: 0.5048 - val_loss: 1.4464 - val_accuracy: 0.4867\n",
      "Epoch 10/100\n",
      "1250/1250 [==============================] - 31s 25ms/step - loss: 1.3846 - accuracy: 0.5097 - val_loss: 1.4459 - val_accuracy: 0.4964\n",
      "Epoch 11/100\n",
      "1250/1250 [==============================] - 32s 26ms/step - loss: 1.3628 - accuracy: 0.5170 - val_loss: 1.4162 - val_accuracy: 0.4999\n",
      "Epoch 12/100\n",
      "1250/1250 [==============================] - 32s 25ms/step - loss: 1.3196 - accuracy: 0.5353 - val_loss: 1.4265 - val_accuracy: 0.5038\n",
      "Epoch 13/100\n",
      "1250/1250 [==============================] - 32s 25ms/step - loss: 1.3029 - accuracy: 0.5405 - val_loss: 1.3830 - val_accuracy: 0.5007\n",
      "Epoch 14/100\n",
      "1250/1250 [==============================] - 34s 27ms/step - loss: 1.2925 - accuracy: 0.5488 - val_loss: 1.3835 - val_accuracy: 0.5150\n",
      "Epoch 15/100\n",
      "1250/1250 [==============================] - 32s 25ms/step - loss: 1.2604 - accuracy: 0.5540 - val_loss: 1.3859 - val_accuracy: 0.5191\n",
      "Epoch 16/100\n",
      "1250/1250 [==============================] - 32s 26ms/step - loss: 1.2461 - accuracy: 0.5634 - val_loss: 1.3899 - val_accuracy: 0.5152\n",
      "Epoch 17/100\n",
      "1250/1250 [==============================] - 31s 25ms/step - loss: 1.2306 - accuracy: 0.5658 - val_loss: 1.3719 - val_accuracy: 0.5219\n",
      "Epoch 18/100\n",
      "1250/1250 [==============================] - 32s 25ms/step - loss: 1.2256 - accuracy: 0.5699 - val_loss: 1.3669 - val_accuracy: 0.5246\n",
      "Epoch 19/100\n",
      "1250/1250 [==============================] - 31s 25ms/step - loss: 1.2052 - accuracy: 0.5777 - val_loss: 1.3754 - val_accuracy: 0.5246\n",
      "Epoch 20/100\n",
      "1250/1250 [==============================] - 32s 25ms/step - loss: 1.1812 - accuracy: 0.5846 - val_loss: 1.3873 - val_accuracy: 0.5194\n",
      "Epoch 21/100\n",
      "1250/1250 [==============================] - 31s 25ms/step - loss: 1.1684 - accuracy: 0.5927 - val_loss: 1.3826 - val_accuracy: 0.5200\n",
      "Epoch 22/100\n",
      "1250/1250 [==============================] - 34s 27ms/step - loss: 1.1529 - accuracy: 0.5946 - val_loss: 1.3879 - val_accuracy: 0.5253\n",
      "Epoch 23/100\n",
      "1250/1250 [==============================] - 31s 25ms/step - loss: 1.1356 - accuracy: 0.6041 - val_loss: 1.4004 - val_accuracy: 0.5188\n",
      "Epoch 24/100\n",
      "1250/1250 [==============================] - 32s 25ms/step - loss: 1.1241 - accuracy: 0.6068 - val_loss: 1.3762 - val_accuracy: 0.5262\n",
      "Epoch 25/100\n",
      "1250/1250 [==============================] - 31s 25ms/step - loss: 1.1084 - accuracy: 0.6139 - val_loss: 1.3703 - val_accuracy: 0.5349\n",
      "Epoch 26/100\n",
      "1250/1250 [==============================] - 35s 28ms/step - loss: 1.0961 - accuracy: 0.6173 - val_loss: 1.3792 - val_accuracy: 0.5278\n",
      "Epoch 27/100\n",
      "1250/1250 [==============================] - 31s 25ms/step - loss: 1.0745 - accuracy: 0.6264 - val_loss: 1.3713 - val_accuracy: 0.5289\n",
      "Epoch 28/100\n",
      "1250/1250 [==============================] - 34s 27ms/step - loss: 1.0681 - accuracy: 0.6290 - val_loss: 1.4067 - val_accuracy: 0.5243\n"
     ]
    }
   ],
   "source": [
    "history = model.fit(X_train, y_train, epochs=100,\n",
    "                    validation_data=(X_valid, y_valid),\n",
    "                   callbacks=[early_stopping, checkpoint, tensorboard])"
   ]
  },
  {
   "cell_type": "code",
   "execution_count": 33,
   "id": "47112969",
   "metadata": {},
   "outputs": [
    {
     "name": "stdout",
     "output_type": "stream",
     "text": [
      "313/313 [==============================] - 2s 4ms/step - loss: 1.3669 - accuracy: 0.5246\n"
     ]
    },
    {
     "data": {
      "text/plain": [
       "[1.3669079542160034, 0.5246000289916992]"
      ]
     },
     "execution_count": 33,
     "metadata": {},
     "output_type": "execute_result"
    }
   ],
   "source": [
    "model = keras.models.load_model(\"my_cifar10_BN_model.h5\")\n",
    "model.evaluate(X_valid, y_valid)"
   ]
  },
  {
   "cell_type": "markdown",
   "id": "9ad9802e",
   "metadata": {},
   "source": [
    "It is converging a lot faster than before. Before it took 44 epochs but now with batch normalization, it is only taking 28 epochs. The accuracy is also higher. It is 52% compared to 46% previously. It affected the training speed. Although the model converged faster, each epoch took about 25s instead of 21s, because of the extra computations required by the BN layers."
   ]
  },
  {
   "cell_type": "markdown",
   "id": "3e15bc84",
   "metadata": {},
   "source": [
    "#### Question 4: 10 pointsTry replacing Batch Normalization with SELU, and make the necessary adjuste-ments to ensure the network self-normalizes (i.e., standardize the input features,use LeCun normal initialization, make sure the DNN contains only a sequenceof dense layers, etc.)."
   ]
  },
  {
   "cell_type": "code",
   "execution_count": 34,
   "id": "e84ab78f",
   "metadata": {},
   "outputs": [],
   "source": [
    "keras.backend.clear_session()\n",
    "tf.random.set_seed(42)\n",
    "np.random.seed(42)"
   ]
  },
  {
   "cell_type": "code",
   "execution_count": 35,
   "id": "e5e5142b",
   "metadata": {},
   "outputs": [],
   "source": [
    "model = keras.models.Sequential([\n",
    "    keras.layers.Flatten(input_shape=[32, 32, 3]),\n",
    "    keras.layers.BatchNormalization(),\n",
    "])"
   ]
  },
  {
   "cell_type": "code",
   "execution_count": 37,
   "id": "a4a76f64",
   "metadata": {},
   "outputs": [],
   "source": [
    "for i in range(0,20):\n",
    "    model.add(keras.layers.Dense(100,activation='selu',kernel_initializer=\"lecun_normal\"))\n",
    "    model.add(keras.layers.BatchNormalization())\n"
   ]
  },
  {
   "cell_type": "code",
   "execution_count": 38,
   "id": "481d35ff",
   "metadata": {},
   "outputs": [],
   "source": [
    "model.add(keras.layers.Dense(10, activation=\"softmax\"))"
   ]
  },
  {
   "cell_type": "code",
   "execution_count": 39,
   "id": "5d35d3a3",
   "metadata": {},
   "outputs": [],
   "source": [
    "model.compile(loss=\"sparse_categorical_crossentropy\",\n",
    "              optimizer=keras.optimizers.Nadam(lr=7e-5),\n",
    "              metrics=[\"accuracy\"])"
   ]
  },
  {
   "cell_type": "code",
   "execution_count": 40,
   "id": "29226c0e",
   "metadata": {},
   "outputs": [],
   "source": [
    "checkpoint = keras.callbacks.ModelCheckpoint(\"my_cifar10_SELU_model.h5\", save_best_only=True)"
   ]
  },
  {
   "cell_type": "code",
   "execution_count": 41,
   "id": "96d07739",
   "metadata": {},
   "outputs": [],
   "source": [
    "early_stopping = keras.callbacks.EarlyStopping(patience=10, restore_best_weights=True)"
   ]
  },
  {
   "cell_type": "code",
   "execution_count": 42,
   "id": "836a51d4",
   "metadata": {},
   "outputs": [],
   "source": [
    "run_logdir = os.path.join(os.curdir, \"my_cifar10_logs\", \"run_SELU_{:03d}\".format(1))"
   ]
  },
  {
   "cell_type": "code",
   "execution_count": 43,
   "id": "5f7b8c4d",
   "metadata": {},
   "outputs": [],
   "source": [
    "tensorboard = keras.callbacks.TensorBoard(run_logdir)"
   ]
  },
  {
   "cell_type": "code",
   "execution_count": 44,
   "id": "3509bf4d",
   "metadata": {},
   "outputs": [
    {
     "name": "stdout",
     "output_type": "stream",
     "text": [
      "Epoch 1/100\n",
      "1250/1250 [==============================] - 46s 27ms/step - loss: 2.1402 - accuracy: 0.2444 - val_loss: 1.7422 - val_accuracy: 0.3785\n",
      "Epoch 2/100\n",
      "1250/1250 [==============================] - 31s 25ms/step - loss: 1.7709 - accuracy: 0.3677 - val_loss: 1.6564 - val_accuracy: 0.4104\n",
      "Epoch 3/100\n",
      "1250/1250 [==============================] - 31s 25ms/step - loss: 1.7070 - accuracy: 0.3962 - val_loss: 1.6187 - val_accuracy: 0.4281\n",
      "Epoch 4/100\n",
      "1250/1250 [==============================] - 31s 25ms/step - loss: 1.6405 - accuracy: 0.4136 - val_loss: 1.5564 - val_accuracy: 0.4466\n",
      "Epoch 5/100\n",
      "1250/1250 [==============================] - 32s 26ms/step - loss: 1.5833 - accuracy: 0.4377 - val_loss: 1.5273 - val_accuracy: 0.4569\n",
      "Epoch 6/100\n",
      "1250/1250 [==============================] - 34s 27ms/step - loss: 1.5721 - accuracy: 0.4460 - val_loss: 1.5138 - val_accuracy: 0.4640\n",
      "Epoch 7/100\n",
      "1250/1250 [==============================] - 31s 25ms/step - loss: 1.5284 - accuracy: 0.4603 - val_loss: 1.4884 - val_accuracy: 0.4689\n",
      "Epoch 8/100\n",
      "1250/1250 [==============================] - 31s 25ms/step - loss: 1.5043 - accuracy: 0.4669 - val_loss: 1.4749 - val_accuracy: 0.4724\n",
      "Epoch 9/100\n",
      "1250/1250 [==============================] - 32s 25ms/step - loss: 1.4797 - accuracy: 0.4748 - val_loss: 1.4665 - val_accuracy: 0.4773\n",
      "Epoch 10/100\n",
      "1250/1250 [==============================] - 32s 25ms/step - loss: 1.4525 - accuracy: 0.4909 - val_loss: 1.4606 - val_accuracy: 0.4829\n",
      "Epoch 11/100\n",
      "1250/1250 [==============================] - 35s 28ms/step - loss: 1.4396 - accuracy: 0.4874 - val_loss: 1.4508 - val_accuracy: 0.4850\n",
      "Epoch 12/100\n",
      "1250/1250 [==============================] - 33s 26ms/step - loss: 1.4027 - accuracy: 0.5058 - val_loss: 1.4293 - val_accuracy: 0.4923\n",
      "Epoch 13/100\n",
      "1250/1250 [==============================] - 32s 26ms/step - loss: 1.3905 - accuracy: 0.5109 - val_loss: 1.4202 - val_accuracy: 0.4889\n",
      "Epoch 14/100\n",
      "1250/1250 [==============================] - 33s 26ms/step - loss: 1.3801 - accuracy: 0.5128 - val_loss: 1.4307 - val_accuracy: 0.4926\n",
      "Epoch 15/100\n",
      "1250/1250 [==============================] - 33s 26ms/step - loss: 1.3527 - accuracy: 0.5248 - val_loss: 1.4192 - val_accuracy: 0.4958\n",
      "Epoch 16/100\n",
      "1250/1250 [==============================] - 33s 26ms/step - loss: 1.3353 - accuracy: 0.5253 - val_loss: 1.4080 - val_accuracy: 0.5026\n",
      "Epoch 17/100\n",
      "1250/1250 [==============================] - 33s 26ms/step - loss: 1.3278 - accuracy: 0.5272 - val_loss: 1.4219 - val_accuracy: 0.4999\n",
      "Epoch 18/100\n",
      "1250/1250 [==============================] - 32s 26ms/step - loss: 1.3247 - accuracy: 0.5288 - val_loss: 1.3982 - val_accuracy: 0.5079\n",
      "Epoch 19/100\n",
      "1250/1250 [==============================] - 29s 23ms/step - loss: 1.3140 - accuracy: 0.5334 - val_loss: 1.4069 - val_accuracy: 0.5052\n",
      "Epoch 20/100\n",
      "1250/1250 [==============================] - 30s 24ms/step - loss: 1.2963 - accuracy: 0.5403 - val_loss: 1.4115 - val_accuracy: 0.5024\n",
      "Epoch 21/100\n",
      "1250/1250 [==============================] - 29s 23ms/step - loss: 1.2783 - accuracy: 0.5488 - val_loss: 1.3943 - val_accuracy: 0.5094\n",
      "Epoch 22/100\n",
      "1250/1250 [==============================] - 29s 23ms/step - loss: 1.2666 - accuracy: 0.5507 - val_loss: 1.4178 - val_accuracy: 0.5026\n",
      "Epoch 23/100\n",
      "1250/1250 [==============================] - 29s 23ms/step - loss: 1.2556 - accuracy: 0.5554 - val_loss: 1.4201 - val_accuracy: 0.5060\n",
      "Epoch 24/100\n",
      "1250/1250 [==============================] - 29s 23ms/step - loss: 1.2443 - accuracy: 0.5609 - val_loss: 1.4065 - val_accuracy: 0.5050\n",
      "Epoch 25/100\n",
      "1250/1250 [==============================] - 29s 23ms/step - loss: 1.2291 - accuracy: 0.5642 - val_loss: 1.3951 - val_accuracy: 0.5147\n",
      "Epoch 26/100\n",
      "1250/1250 [==============================] - 30s 24ms/step - loss: 1.2241 - accuracy: 0.5696 - val_loss: 1.3946 - val_accuracy: 0.5115\n",
      "Epoch 27/100\n",
      "1250/1250 [==============================] - 35s 28ms/step - loss: 1.2094 - accuracy: 0.5758 - val_loss: 1.3910 - val_accuracy: 0.5103\n",
      "Epoch 28/100\n",
      "1250/1250 [==============================] - 35s 28ms/step - loss: 1.2125 - accuracy: 0.5726 - val_loss: 1.3969 - val_accuracy: 0.5163\n",
      "Epoch 29/100\n",
      "1250/1250 [==============================] - 33s 27ms/step - loss: 1.2044 - accuracy: 0.5748 - val_loss: 1.4034 - val_accuracy: 0.5116\n",
      "Epoch 30/100\n",
      "1250/1250 [==============================] - 32s 26ms/step - loss: 1.1907 - accuracy: 0.5807 - val_loss: 1.4064 - val_accuracy: 0.5107\n",
      "Epoch 31/100\n",
      "1250/1250 [==============================] - 33s 27ms/step - loss: 1.1829 - accuracy: 0.5838 - val_loss: 1.4032 - val_accuracy: 0.5134\n",
      "Epoch 32/100\n",
      "1250/1250 [==============================] - 33s 26ms/step - loss: 1.1553 - accuracy: 0.5940 - val_loss: 1.4043 - val_accuracy: 0.5148\n",
      "Epoch 33/100\n",
      "1250/1250 [==============================] - 33s 26ms/step - loss: 1.1601 - accuracy: 0.5900 - val_loss: 1.4243 - val_accuracy: 0.5051\n",
      "Epoch 34/100\n",
      "1250/1250 [==============================] - 33s 27ms/step - loss: 1.1599 - accuracy: 0.5900 - val_loss: 1.4275 - val_accuracy: 0.5135\n",
      "Epoch 35/100\n",
      "1250/1250 [==============================] - 33s 26ms/step - loss: 1.1497 - accuracy: 0.5925 - val_loss: 1.4146 - val_accuracy: 0.5131\n",
      "Epoch 36/100\n",
      "1250/1250 [==============================] - 32s 25ms/step - loss: 1.1305 - accuracy: 0.6046 - val_loss: 1.4021 - val_accuracy: 0.5211\n",
      "Epoch 37/100\n",
      "1250/1250 [==============================] - 31s 25ms/step - loss: 1.1403 - accuracy: 0.5988 - val_loss: 1.4175 - val_accuracy: 0.5164\n"
     ]
    }
   ],
   "source": [
    "history = model.fit(X_train, y_train, epochs=100,\n",
    "                    validation_data=(X_valid, y_valid),\n",
    "                   callbacks=[early_stopping, checkpoint, tensorboard])"
   ]
  },
  {
   "cell_type": "code",
   "execution_count": 45,
   "id": "b43c2d0c",
   "metadata": {},
   "outputs": [
    {
     "name": "stdout",
     "output_type": "stream",
     "text": [
      "313/313 [==============================] - 2s 4ms/step - loss: 1.3910 - accuracy: 0.5103\n"
     ]
    },
    {
     "data": {
      "text/plain": [
       "[1.3909515142440796, 0.5102999806404114]"
      ]
     },
     "execution_count": 45,
     "metadata": {},
     "output_type": "execute_result"
    }
   ],
   "source": [
    "model = keras.models.load_model(\"my_cifar10_SELU_model.h5\")\n",
    "model.evaluate(X_valid, y_valid)"
   ]
  },
  {
   "cell_type": "markdown",
   "id": "689c4b4d",
   "metadata": {},
   "source": [
    "#### Question 5: 10 pointsTry regularizing the model with alpha dropout.  Then, without retraining yourmodel, see if you can achieve better accuracy using MC Dropout."
   ]
  },
  {
   "cell_type": "code",
   "execution_count": 46,
   "id": "a375c866",
   "metadata": {},
   "outputs": [],
   "source": [
    "keras.backend.clear_session()\n",
    "tf.random.set_seed(42)\n",
    "np.random.seed(42)"
   ]
  },
  {
   "cell_type": "code",
   "execution_count": 47,
   "id": "49953fe0",
   "metadata": {},
   "outputs": [],
   "source": [
    "means = X_train.mean(axis=0)\n",
    "stds = X_train.std(axis=0)\n",
    "X_train_scaled = (X_train - means) / stds\n",
    "X_valid_scaled = (X_valid - means) / stds\n",
    "X_test_scaled = (X_test - means) / stds\n"
   ]
  },
  {
   "cell_type": "code",
   "execution_count": 48,
   "id": "fd8f6d4a",
   "metadata": {},
   "outputs": [],
   "source": [
    "model = keras.models.Sequential([\n",
    "    keras.layers.Flatten(input_shape=[32, 32, 3]),\n",
    "    keras.layers.AlphaDropout(rate=0.2)\n",
    "])\n"
   ]
  },
  {
   "cell_type": "code",
   "execution_count": 49,
   "id": "2b755d78",
   "metadata": {},
   "outputs": [],
   "source": [
    "for i in range(0,20):\n",
    "    model.add(keras.layers.Dense(100,activation=\"selu\",kernel_initializer=\"lecun_normal\"))"
   ]
  },
  {
   "cell_type": "code",
   "execution_count": 50,
   "id": "715315e6",
   "metadata": {},
   "outputs": [],
   "source": [
    "model.add(keras.layers.AlphaDropout(rate=0.2))"
   ]
  },
  {
   "cell_type": "code",
   "execution_count": 51,
   "id": "99538401",
   "metadata": {},
   "outputs": [],
   "source": [
    "model.add(keras.layers.Dense(10, activation=\"softmax\"))"
   ]
  },
  {
   "cell_type": "code",
   "execution_count": 52,
   "id": "d7c471ac",
   "metadata": {},
   "outputs": [],
   "source": [
    "model.compile(loss=\"sparse_categorical_crossentropy\",\n",
    "              optimizer=keras.optimizers.Nadam(lr=5e-4),\n",
    "              metrics=[\"accuracy\"])"
   ]
  },
  {
   "cell_type": "code",
   "execution_count": 53,
   "id": "7d414a3e",
   "metadata": {},
   "outputs": [],
   "source": [
    "checkpoint = keras.callbacks.ModelCheckpoint(\"my_cifar10_alpha_model.h5\", save_best_only=True)"
   ]
  },
  {
   "cell_type": "code",
   "execution_count": 54,
   "id": "2d6961ba",
   "metadata": {},
   "outputs": [],
   "source": [
    "early_stopping = keras.callbacks.EarlyStopping(patience=10, restore_best_weights=True)"
   ]
  },
  {
   "cell_type": "code",
   "execution_count": 55,
   "id": "cacf83ad",
   "metadata": {},
   "outputs": [],
   "source": [
    "run_logdir = os.path.join(os.curdir, \"my_cifar10_logs\", \"run_alpha_dropout_{:03d}\".format(1))"
   ]
  },
  {
   "cell_type": "code",
   "execution_count": 56,
   "id": "9cc852a1",
   "metadata": {},
   "outputs": [],
   "source": [
    "tensorboard = keras.callbacks.TensorBoard(run_logdir)"
   ]
  },
  {
   "cell_type": "code",
   "execution_count": 57,
   "id": "83d6a995",
   "metadata": {},
   "outputs": [
    {
     "name": "stdout",
     "output_type": "stream",
     "text": [
      "Epoch 1/100\n",
      "1250/1250 [==============================] - 32s 22ms/step - loss: 2.1490 - accuracy: 0.2453 - val_loss: 1.8086 - val_accuracy: 0.3708\n",
      "Epoch 2/100\n",
      "1250/1250 [==============================] - 25s 20ms/step - loss: 1.7709 - accuracy: 0.3660 - val_loss: 1.7570 - val_accuracy: 0.4025\n",
      "Epoch 3/100\n",
      "1250/1250 [==============================] - 25s 20ms/step - loss: 1.6880 - accuracy: 0.4067 - val_loss: 1.7391 - val_accuracy: 0.4150\n",
      "Epoch 4/100\n",
      "1250/1250 [==============================] - 25s 20ms/step - loss: 1.6293 - accuracy: 0.4250 - val_loss: 1.8497 - val_accuracy: 0.4036\n",
      "Epoch 5/100\n",
      "1250/1250 [==============================] - 25s 20ms/step - loss: 1.5727 - accuracy: 0.4466 - val_loss: 1.6959 - val_accuracy: 0.4408\n",
      "Epoch 6/100\n",
      "1250/1250 [==============================] - 26s 21ms/step - loss: 1.5490 - accuracy: 0.4541 - val_loss: 1.6779 - val_accuracy: 0.4598\n",
      "Epoch 7/100\n",
      "1250/1250 [==============================] - 25s 20ms/step - loss: 1.4943 - accuracy: 0.4762 - val_loss: 1.8012 - val_accuracy: 0.4426\n",
      "Epoch 8/100\n",
      "1250/1250 [==============================] - 26s 20ms/step - loss: 1.4717 - accuracy: 0.4871 - val_loss: 1.6135 - val_accuracy: 0.4612\n",
      "Epoch 9/100\n",
      "1250/1250 [==============================] - 25s 20ms/step - loss: 1.4494 - accuracy: 0.4946 - val_loss: 1.8178 - val_accuracy: 0.4656\n",
      "Epoch 10/100\n",
      "1250/1250 [==============================] - 26s 21ms/step - loss: 1.4372 - accuracy: 0.4956 - val_loss: 1.6923 - val_accuracy: 0.4640\n",
      "Epoch 11/100\n",
      "1250/1250 [==============================] - 25s 20ms/step - loss: 1.4087 - accuracy: 0.5100 - val_loss: 1.6758 - val_accuracy: 0.4693\n",
      "Epoch 12/100\n",
      "1250/1250 [==============================] - 25s 20ms/step - loss: 1.3799 - accuracy: 0.5176 - val_loss: 1.6144 - val_accuracy: 0.4764\n",
      "Epoch 13/100\n",
      "1250/1250 [==============================] - 26s 21ms/step - loss: 1.3555 - accuracy: 0.5275 - val_loss: 1.6808 - val_accuracy: 0.4755\n",
      "Epoch 14/100\n",
      "1250/1250 [==============================] - 29s 23ms/step - loss: 1.3453 - accuracy: 0.5302 - val_loss: 1.6408 - val_accuracy: 0.4820\n",
      "Epoch 15/100\n",
      "1250/1250 [==============================] - 28s 23ms/step - loss: 1.3239 - accuracy: 0.5390 - val_loss: 1.6774 - val_accuracy: 0.4896\n",
      "Epoch 16/100\n",
      "1250/1250 [==============================] - 28s 22ms/step - loss: 1.3176 - accuracy: 0.5387 - val_loss: 1.7912 - val_accuracy: 0.4607\n",
      "Epoch 17/100\n",
      "1250/1250 [==============================] - 27s 22ms/step - loss: 1.2995 - accuracy: 0.5431 - val_loss: 1.6467 - val_accuracy: 0.4880\n",
      "Epoch 18/100\n",
      "1250/1250 [==============================] - 27s 21ms/step - loss: 1.2891 - accuracy: 0.5506 - val_loss: 1.7143 - val_accuracy: 0.4963\n"
     ]
    }
   ],
   "source": [
    "history = model.fit(X_train_scaled, y_train, epochs=100,\n",
    "                    validation_data=(X_valid_scaled, y_valid),\n",
    "                   callbacks=[early_stopping, checkpoint, tensorboard])"
   ]
  },
  {
   "cell_type": "code",
   "execution_count": 58,
   "id": "1a3acf50",
   "metadata": {},
   "outputs": [
    {
     "name": "stdout",
     "output_type": "stream",
     "text": [
      "313/313 [==============================] - 1s 3ms/step - loss: 1.6135 - accuracy: 0.4612\n"
     ]
    },
    {
     "data": {
      "text/plain": [
       "[1.6135224103927612, 0.4611999988555908]"
      ]
     },
     "execution_count": 58,
     "metadata": {},
     "output_type": "execute_result"
    }
   ],
   "source": [
    "model = keras.models.load_model(\"my_cifar10_alpha_model.h5\")\n",
    "model.evaluate(X_valid_scaled, y_valid)"
   ]
  },
  {
   "cell_type": "markdown",
   "id": "45d31ebf",
   "metadata": {},
   "source": [
    "MC Dropout"
   ]
  },
  {
   "cell_type": "code",
   "execution_count": 59,
   "id": "29b32828",
   "metadata": {},
   "outputs": [],
   "source": [
    "class MCAlphaDropout(keras.layers.AlphaDropout):\n",
    "    def call(self, inputs):\n",
    "        return super().call(inputs, training=True)"
   ]
  },
  {
   "cell_type": "code",
   "execution_count": 60,
   "id": "0e721736",
   "metadata": {},
   "outputs": [],
   "source": [
    "mc_model = keras.models.Sequential([\n",
    "    MCAlphaDropout(layer.rate) if isinstance(layer, keras.layers.AlphaDropout) else layer\n",
    "    for layer in model.layers\n",
    "])"
   ]
  },
  {
   "cell_type": "code",
   "execution_count": 61,
   "id": "68259087",
   "metadata": {},
   "outputs": [],
   "source": [
    "\n",
    "def mc_dropout_predict_probas(mc_model, X, n_samples=10):\n",
    "    Y_probas = [mc_model.predict(X) for sample in range(n_samples)]\n",
    "    return np.mean(Y_probas, axis=0)\n",
    "\n",
    "def mc_dropout_predict_classes(mc_model, X, n_samples=10):\n",
    "    Y_probas = mc_dropout_predict_probas(mc_model, X, n_samples)\n",
    "    return np.argmax(Y_probas, axis=1)"
   ]
  },
  {
   "cell_type": "code",
   "execution_count": 62,
   "id": "c1ac4e77",
   "metadata": {},
   "outputs": [
    {
     "data": {
      "text/plain": [
       "0.4753"
      ]
     },
     "execution_count": 62,
     "metadata": {},
     "output_type": "execute_result"
    }
   ],
   "source": [
    "keras.backend.clear_session()\n",
    "tf.random.set_seed(42)\n",
    "np.random.seed(42)\n",
    "\n",
    "y_pred = mc_dropout_predict_classes(mc_model, X_valid_scaled)\n",
    "accuracy = np.mean(y_pred == y_valid[:, 0])\n",
    "accuracy"
   ]
  },
  {
   "cell_type": "markdown",
   "id": "25ad2864",
   "metadata": {},
   "source": [
    "I can achieve a slightly better accuraccy"
   ]
  },
  {
   "cell_type": "markdown",
   "id": "144949d8",
   "metadata": {},
   "source": [
    "#### Question 6: 10 pointsRetrain your model using 1cycle scheduling and see if it improves training speedand model accuracy."
   ]
  },
  {
   "cell_type": "code",
   "execution_count": 66,
   "id": "a79cae6f",
   "metadata": {},
   "outputs": [],
   "source": [
    "keras.backend.clear_session()\n",
    "tf.random.set_seed(42)\n",
    "np.random.seed(42)"
   ]
  },
  {
   "cell_type": "code",
   "execution_count": 67,
   "id": "fc352b04",
   "metadata": {},
   "outputs": [],
   "source": [
    "means = X_train.mean(axis=0, keepdims=True)\n",
    "stds = X_train.std(axis=0, keepdims=True)\n",
    "X_train_scaled = (X_train - means) / stds\n",
    "X_valid_scaled = (X_valid - means) / stds\n",
    "X_test_scaled = (X_test - means) / stds"
   ]
  },
  {
   "cell_type": "code",
   "execution_count": 68,
   "id": "c5de875d",
   "metadata": {},
   "outputs": [],
   "source": [
    "model = keras.models.Sequential([\n",
    "    keras.layers.Flatten(input_shape=[32, 32, 3]),\n",
    "    keras.layers.AlphaDropout(rate=0.2)\n",
    "])"
   ]
  },
  {
   "cell_type": "code",
   "execution_count": 69,
   "id": "4c3b2b73",
   "metadata": {},
   "outputs": [],
   "source": [
    "for i in range(0,20):\n",
    "    model.add(keras.layers.Dense(100,activation=\"selu\",kernel_initializer=\"lecun_normal\"))"
   ]
  },
  {
   "cell_type": "code",
   "execution_count": 70,
   "id": "6c17540a",
   "metadata": {},
   "outputs": [],
   "source": [
    "model.add(keras.layers.AlphaDropout(rate=0.2))"
   ]
  },
  {
   "cell_type": "code",
   "execution_count": 71,
   "id": "57c4cd35",
   "metadata": {},
   "outputs": [],
   "source": [
    "model.add(keras.layers.Dense(10, activation=\"softmax\"))"
   ]
  },
  {
   "cell_type": "code",
   "execution_count": 72,
   "id": "95d63acd",
   "metadata": {},
   "outputs": [],
   "source": [
    "model.compile(loss=\"sparse_categorical_crossentropy\",\n",
    "              optimizer=keras.optimizers.Nadam(lr=1e-3),\n",
    "              metrics=[\"accuracy\"])"
   ]
  },
  {
   "cell_type": "code",
   "execution_count": 73,
   "id": "9fb54845",
   "metadata": {},
   "outputs": [],
   "source": [
    "K = keras.backend\n",
    "class ExponentialLearningRate(keras.callbacks.Callback):\n",
    "    def __init__(self, factor):\n",
    "        self.factor = factor\n",
    "        self.rates = []\n",
    "        self.losses = []\n",
    "    def on_batch_end(self, batch, logs):\n",
    "        self.rates.append(K.get_value(self.model.optimizer.lr))\n",
    "        self.losses.append(logs[\"loss\"])\n",
    "        K.set_value(self.model.optimizer.lr, self.model.optimizer.lr * self.factor)\n",
    "\n",
    "def find_learning_rate(model, X, y, epochs=1, batch_size=32, min_rate=10**-5, max_rate=10):\n",
    "    init_weights = model.get_weights()\n",
    "    iterations = math.ceil(len(X) / batch_size) * epochs\n",
    "    factor = np.exp(np.log(max_rate / min_rate) / iterations)\n",
    "    init_lr = K.get_value(model.optimizer.lr)\n",
    "    K.set_value(model.optimizer.lr, min_rate)\n",
    "    exp_lr = ExponentialLearningRate(factor)\n",
    "    history = model.fit(X, y, epochs=epochs, batch_size=batch_size,\n",
    "                        callbacks=[exp_lr])\n",
    "    K.set_value(model.optimizer.lr, init_lr)\n",
    "    model.set_weights(init_weights)\n",
    "    return exp_lr.rates, exp_lr.losses\n",
    "def plot_lr_vs_loss(rates, losses):\n",
    "    plt.plot(rates, losses)\n",
    "    plt.gca().set_xscale('log')\n",
    "    plt.hlines(min(losses), min(rates), max(rates))\n",
    "    plt.axis([min(rates), max(rates), min(losses), (losses[0] + min(losses)) / 2])\n",
    "    plt.xlabel(\"Learning rate\")\n",
    "    plt.ylabel(\"Loss\")"
   ]
  },
  {
   "cell_type": "code",
   "execution_count": 74,
   "id": "e197cad0",
   "metadata": {},
   "outputs": [
    {
     "name": "stdout",
     "output_type": "stream",
     "text": [
      "313/313 [==============================] - 32s 34ms/step - loss: 9130.0930 - accuracy: 0.1404 1s - loss: \n"
     ]
    },
    {
     "data": {
      "image/png": "[encoded data removed]",
      "text/plain": [
       "<Figure size 432x288 with 1 Axes>"
      ]
     },
     "metadata": {
      "needs_background": "light"
     },
     "output_type": "display_data"
    }
   ],
   "source": [
    "batch_size = 128\n",
    "rates, losses = find_learning_rate(model, X_train_scaled, y_train, epochs=1, batch_size=batch_size)\n",
    "plot_lr_vs_loss(rates, losses)\n",
    "# plt.axis([min(rates), max(rates), min(losses), (losses[0] + min(losses)) / 1.4])"
   ]
  },
  {
   "cell_type": "code",
   "execution_count": 75,
   "id": "649e2c2a",
   "metadata": {},
   "outputs": [],
   "source": [
    "keras.backend.clear_session()\n",
    "tf.random.set_seed(42)\n",
    "np.random.seed(42)"
   ]
  },
  {
   "cell_type": "code",
   "execution_count": 76,
   "id": "478a13ce",
   "metadata": {},
   "outputs": [],
   "source": [
    "model = keras.models.Sequential([\n",
    "    keras.layers.Flatten(input_shape=[32, 32, 3]),\n",
    "    keras.layers.AlphaDropout(rate=0.2)\n",
    "])"
   ]
  },
  {
   "cell_type": "code",
   "execution_count": 77,
   "id": "a6a2b0c0",
   "metadata": {},
   "outputs": [],
   "source": [
    "for i in range(0,20):\n",
    "    model.add(keras.layers.Dense(100,activation=\"selu\",kernel_initializer=\"lecun_normal\"))"
   ]
  },
  {
   "cell_type": "code",
   "execution_count": 78,
   "id": "ff5d2870",
   "metadata": {},
   "outputs": [],
   "source": [
    "model.add(keras.layers.AlphaDropout(rate=0.2))"
   ]
  },
  {
   "cell_type": "code",
   "execution_count": 79,
   "id": "3eea4038",
   "metadata": {},
   "outputs": [],
   "source": [
    "model.add(keras.layers.Dense(10, activation=\"softmax\"))"
   ]
  },
  {
   "cell_type": "code",
   "execution_count": 80,
   "id": "1c3ceb9b",
   "metadata": {},
   "outputs": [],
   "source": [
    "model.compile(loss=\"sparse_categorical_crossentropy\",\n",
    "              optimizer=keras.optimizers.Nadam(lr=1e-2),\n",
    "              metrics=[\"accuracy\"])"
   ]
  },
  {
   "cell_type": "code",
   "execution_count": 81,
   "id": "2d382e68",
   "metadata": {},
   "outputs": [],
   "source": [
    "class OneCycleScheduler(keras.callbacks.Callback):\n",
    "    def __init__(self, iterations, max_rate, start_rate=None,\n",
    "                 last_iterations=None, last_rate=None):\n",
    "        self.iterations = iterations\n",
    "        self.max_rate = max_rate\n",
    "        self.start_rate = start_rate or max_rate / 10\n",
    "        self.last_iterations = last_iterations or iterations // 10 + 1\n",
    "        self.half_iteration = (iterations - self.last_iterations) // 2\n",
    "        self.last_rate = last_rate or self.start_rate / 1000\n",
    "        self.iteration = 0\n",
    "    def _interpolate(self, iter1, iter2, rate1, rate2):\n",
    "        return ((rate2 - rate1) * (self.iteration - iter1)\n",
    "                / (iter2 - iter1) + rate1)\n",
    "    def on_batch_begin(self, batch, logs):\n",
    "        if self.iteration < self.half_iteration:\n",
    "            rate = self._interpolate(0, self.half_iteration, self.start_rate, self.max_rate)\n",
    "        elif self.iteration < 2 * self.half_iteration:\n",
    "            rate = self._interpolate(self.half_iteration, 2 * self.half_iteration,\n",
    "                                     self.max_rate, self.start_rate)\n",
    "        else:\n",
    "            rate = self._interpolate(2 * self.half_iteration, self.iterations,\n",
    "                                     self.start_rate, self.last_rate)\n",
    "        self.iteration += 1\n",
    "        K.set_value(self.model.optimizer.lr, rate)"
   ]
  },
  {
   "cell_type": "code",
   "execution_count": 82,
   "id": "9bd2d724",
   "metadata": {},
   "outputs": [
    {
     "name": "stdout",
     "output_type": "stream",
     "text": [
      "Epoch 1/15\n",
      "313/313 [==============================] - 14s 34ms/step - loss: 5.4126 - accuracy: 0.1386 - val_loss: 2.3446 - val_accuracy: 0.1030\n",
      "Epoch 2/15\n",
      "313/313 [==============================] - 10s 32ms/step - loss: 2.3263 - accuracy: 0.0982 - val_loss: 2.3943 - val_accuracy: 0.1023\n",
      "Epoch 3/15\n",
      "313/313 [==============================] - 12s 37ms/step - loss: 2.3851 - accuracy: 0.1010 - val_loss: 2.8915 - val_accuracy: 0.0973\n",
      "Epoch 4/15\n",
      "313/313 [==============================] - 11s 36ms/step - loss: 2.5495 - accuracy: 0.1010 - val_loss: 3.1881 - val_accuracy: 0.1030\n",
      "Epoch 5/15\n",
      "313/313 [==============================] - 11s 36ms/step - loss: 2.7889 - accuracy: 0.1024 - val_loss: 5.4227 - val_accuracy: 0.0979\n",
      "Epoch 6/15\n",
      "313/313 [==============================] - 12s 38ms/step - loss: 3.1416 - accuracy: 0.0992 - val_loss: 3.7589 - val_accuracy: 0.1017\n",
      "Epoch 7/15\n",
      "313/313 [==============================] - 12s 38ms/step - loss: 3.4123 - accuracy: 0.0997 - val_loss: 3.7590 - val_accuracy: 0.1023\n",
      "Epoch 8/15\n",
      "313/313 [==============================] - 11s 36ms/step - loss: 2.9323 - accuracy: 0.0976 - val_loss: 3.2399 - val_accuracy: 0.0933\n",
      "Epoch 9/15\n",
      "313/313 [==============================] - 12s 37ms/step - loss: 2.6909 - accuracy: 0.0994 - val_loss: 2.5876 - val_accuracy: 0.0973\n",
      "Epoch 10/15\n",
      "313/313 [==============================] - 11s 35ms/step - loss: 2.4701 - accuracy: 0.1007 - val_loss: 2.4412 - val_accuracy: 0.0933\n",
      "Epoch 11/15\n",
      "313/313 [==============================] - 11s 36ms/step - loss: 2.3978 - accuracy: 0.0989 - val_loss: 2.4221 - val_accuracy: 0.0933\n",
      "Epoch 12/15\n",
      "313/313 [==============================] - 11s 36ms/step - loss: 2.3545 - accuracy: 0.1026 - val_loss: 2.3720 - val_accuracy: 0.0994\n",
      "Epoch 13/15\n",
      "313/313 [==============================] - 11s 36ms/step - loss: 2.3318 - accuracy: 0.0987 - val_loss: 2.3387 - val_accuracy: 0.0979\n",
      "Epoch 14/15\n",
      "313/313 [==============================] - 11s 36ms/step - loss: 2.3156 - accuracy: 0.0997 - val_loss: 2.3104 - val_accuracy: 0.0973\n",
      "Epoch 15/15\n",
      "313/313 [==============================] - 12s 37ms/step - loss: 2.3078 - accuracy: 0.1003 - val_loss: 2.3052 - val_accuracy: 0.1040\n"
     ]
    }
   ],
   "source": [
    "n_epochs = 15\n",
    "onecycle = OneCycleScheduler(len(X_train_scaled) // batch_size * n_epochs, max_rate=0.05)\n",
    "history = model.fit(X_train_scaled, y_train, epochs=n_epochs, batch_size=batch_size,\n",
    "                    validation_data=(X_valid_scaled, y_valid),\n",
    "                    callbacks=[onecycle])"
   ]
  },
  {
   "cell_type": "code",
   "execution_count": 83,
   "id": "09140479",
   "metadata": {},
   "outputs": [
    {
     "name": "stdout",
     "output_type": "stream",
     "text": [
      "313/313 [==============================] - 1s 3ms/step - loss: 2.3052 - accuracy: 0.1040\n"
     ]
    },
    {
     "data": {
      "text/plain": [
       "[2.305159330368042, 0.10400000214576721]"
      ]
     },
     "execution_count": 83,
     "metadata": {},
     "output_type": "execute_result"
    }
   ],
   "source": [
    "model.evaluate(X_valid_scaled, y_valid)"
   ]
  },
  {
   "cell_type": "markdown",
   "id": "7c9cd98b",
   "metadata": {},
   "source": [
    "This did not imporove the accuracy rate."
   ]
  },
  {
   "cell_type": "code",
   "execution_count": null,
   "id": "0367ee9a",
   "metadata": {},
   "outputs": [],
   "source": []
  },
  {
   "cell_type": "code",
   "execution_count": null,
   "id": "a205cd30",
   "metadata": {},
   "outputs": [],
   "source": []
  }
 ],
 "metadata": {
  "kernelspec": {
   "display_name": "Python 3",
   "language": "python",
   "name": "python3"
  },
  "language_info": {
   "codemirror_mode": {
    "name": "ipython",
    "version": 3
   },
   "file_extension": ".py",
   "mimetype": "text/x-python",
   "name": "python",
   "nbconvert_exporter": "python",
   "pygments_lexer": "ipython3",
   "version": "3.7.10"
  }
 },
 "nbformat": 4,
 "nbformat_minor": 5
}
