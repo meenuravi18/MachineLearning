{
 "cells": [
  {
   "cell_type": "markdown",
   "id": "empirical-essence",
   "metadata": {},
   "source": [
    "## Assignment 2, Meenu Ravi, April 16 2021"
   ]
  },
  {
   "cell_type": "markdown",
   "id": "anonymous-gross",
   "metadata": {},
   "source": [
    "### Question 1: 10 points\n"
   ]
  },
  {
   "cell_type": "markdown",
   "id": "designed-headset",
   "metadata": {},
   "source": [
    "#### Use KNeighborsClassifier to build a classifier for the MNIST dataset that achieves over 97% accuracy on the test set. You might need to use a grid search to find good hyperparameters."
   ]
  },
  {
   "cell_type": "code",
   "execution_count": 3,
   "id": "overall-appeal",
   "metadata": {},
   "outputs": [],
   "source": [
    "import numpy as np\n",
    "import pandas as pd\n",
    "from sklearn.datasets import fetch_openml\n",
    "from sklearn.neighbors import KNeighborsClassifier\n",
    "from sklearn.model_selection import GridSearchCV\n",
    "from sklearn.metrics import accuracy_score"
   ]
  },
  {
   "cell_type": "code",
   "execution_count": 4,
   "id": "warming-hamburg",
   "metadata": {},
   "outputs": [],
   "source": [
    "mnist = fetch_openml('mnist_784', version=1)\n",
    "X, y = mnist[\"data\"], mnist[\"target\"]\n",
    "X_train, X_test, y_train, y_test = X[:60000], X[60000:], y[:60000], y[60000:] # the data is already shuffled"
   ]
  },
  {
   "cell_type": "code",
   "execution_count": 16,
   "id": "dedicated-eagle",
   "metadata": {},
   "outputs": [
    {
     "data": {
      "text/plain": [
       "GridSearchCV(cv=5, estimator=KNeighborsClassifier(),\n",
       "             param_grid=[{'n_neighbors': [2, 4, 5],\n",
       "                          'weights': ['uniform', 'distance']}])"
      ]
     },
     "execution_count": 16,
     "metadata": {},
     "output_type": "execute_result"
    }
   ],
   "source": [
    "param_grid = [{'weights': ['uniform', 'distance'], 'n_neighbors': [2, 4, 5]}]\n",
    "knn_clf = KNeighborsClassifier()\n",
    "grid_search = GridSearchCV(knn_clf, param_grid, cv=5)\n",
    "grid_search.fit(X_train, y_train)"
   ]
  },
  {
   "cell_type": "code",
   "execution_count": 4,
   "id": "medical-surname",
   "metadata": {},
   "outputs": [
    {
     "data": {
      "text/plain": [
       "{'n_neighbors': 4, 'weights': 'distance'}"
      ]
     },
     "execution_count": 4,
     "metadata": {},
     "output_type": "execute_result"
    }
   ],
   "source": [
    "grid_search.best_params_"
   ]
  },
  {
   "cell_type": "code",
   "execution_count": 5,
   "id": "improving-developer",
   "metadata": {},
   "outputs": [
    {
     "data": {
      "text/plain": [
       "0.9716166666666666"
      ]
     },
     "execution_count": 5,
     "metadata": {},
     "output_type": "execute_result"
    }
   ],
   "source": [
    "grid_search.best_score_"
   ]
  },
  {
   "cell_type": "code",
   "execution_count": 6,
   "id": "constant-impression",
   "metadata": {},
   "outputs": [
    {
     "data": {
      "text/plain": [
       "0.9714"
      ]
     },
     "execution_count": 6,
     "metadata": {},
     "output_type": "execute_result"
    }
   ],
   "source": [
    "y_pred = grid_search.predict(X_test)\n",
    "accuracy_score(y_test, y_pred)"
   ]
  },
  {
   "cell_type": "markdown",
   "id": "current-cotton",
   "metadata": {},
   "source": [
    "### Question 2: 30 points"
   ]
  },
  {
   "cell_type": "markdown",
   "id": "changed-ticket",
   "metadata": {},
   "source": [
    "#### Write a function that can shift a MNIST image in any direction (left,right, up, or down) by one pixel."
   ]
  },
  {
   "cell_type": "code",
   "execution_count": 7,
   "id": "incorporate-monte",
   "metadata": {},
   "outputs": [],
   "source": [
    "from scipy.ndimage.interpolation import shift"
   ]
  },
  {
   "cell_type": "code",
   "execution_count": 6,
   "id": "accompanied-iraqi",
   "metadata": {},
   "outputs": [],
   "source": [
    "def shiftImage(image, direction):\n",
    "    image = image.values.reshape((28, 28))\n",
    "    shifted_image = shift(image, [direction[0], direction[1]])\n",
    "    return shifted_image.reshape([-1])"
   ]
  },
  {
   "cell_type": "markdown",
   "id": "impossible-chocolate",
   "metadata": {},
   "source": [
    "#### Then, for each image in the training set, create four shifted copies (one per direction) and add them to the training set.\n"
   ]
  },
  {
   "cell_type": "code",
   "execution_count": 12,
   "id": "choice-retail",
   "metadata": {},
   "outputs": [],
   "source": [
    "move = [(0, -1), (0, 1), (-1, 0), (1, 0)]\n",
    "\n",
    "xshifted = []\n",
    "yshifted = []\n",
    "\n",
    "for i,j in X_train.iterrows():\n",
    "    xshifted.append(j)\n",
    "    for m in move:\n",
    "        xshifted.append(shiftImage(j, m))\n",
    "\n",
    "for i in y_train:\n",
    "    yshifted.append(i)\n",
    "    for m in move:\n",
    "        yshifted.append(i)\n",
    "\n",
    "xshifted = np.array(xshifted)\n",
    "yshifted = np.array(yshifted)"
   ]
  },
  {
   "cell_type": "code",
   "execution_count": 18,
   "id": "proprietary-eagle",
   "metadata": {},
   "outputs": [
    {
     "data": {
      "text/plain": [
       "array([[ 0.00000000e+00,  0.00000000e+00,  0.00000000e+00, ...,\n",
       "         0.00000000e+00,  0.00000000e+00,  0.00000000e+00],\n",
       "       [ 4.82197050e-22, -2.07588054e-21, -4.46065190e-21, ...,\n",
       "        -3.25453376e-23, -1.89660406e-24,  0.00000000e+00],\n",
       "       [ 0.00000000e+00, -6.46659022e-23,  4.82197050e-22, ...,\n",
       "         4.24058361e-22,  2.51191963e-22, -3.25453376e-23],\n",
       "       ...,\n",
       "       [ 0.00000000e+00,  1.18441203e-25,  9.18344983e-26, ...,\n",
       "        -1.68422460e-23,  1.17513807e-24,  9.06779478e-26],\n",
       "       [ 7.22829133e-25,  1.33294048e-24,  1.39003446e-24, ...,\n",
       "         0.00000000e+00,  0.00000000e+00,  0.00000000e+00],\n",
       "       [ 0.00000000e+00,  0.00000000e+00,  0.00000000e+00, ...,\n",
       "        -9.49149485e-24, -1.28610989e-24, -7.71891781e-25]])"
      ]
     },
     "execution_count": 18,
     "metadata": {},
     "output_type": "execute_result"
    }
   ],
   "source": [
    "xshifted"
   ]
  },
  {
   "cell_type": "code",
   "execution_count": 19,
   "id": "final-robin",
   "metadata": {},
   "outputs": [
    {
     "data": {
      "text/plain": [
       "array(['5', '5', '5', ..., '8', '8', '8'], dtype='<U1')"
      ]
     },
     "execution_count": 19,
     "metadata": {},
     "output_type": "execute_result"
    }
   ],
   "source": [
    "yshifted"
   ]
  },
  {
   "cell_type": "code",
   "execution_count": 20,
   "id": "combined-device",
   "metadata": {},
   "outputs": [
    {
     "data": {
      "text/plain": [
       "4"
      ]
     },
     "execution_count": 20,
     "metadata": {},
     "output_type": "execute_result"
    }
   ],
   "source": [
    "grid_search.best_params_['n_neighbors']"
   ]
  },
  {
   "cell_type": "markdown",
   "id": "extra-enforcement",
   "metadata": {},
   "source": [
    "#### Finally, train your best model on this expanded training set and measure its accuracy on the test set."
   ]
  },
  {
   "cell_type": "code",
   "execution_count": 21,
   "id": "stable-titanium",
   "metadata": {},
   "outputs": [
    {
     "data": {
      "text/plain": [
       "KNeighborsClassifier(n_neighbors=4, weights='distance')"
      ]
     },
     "execution_count": 21,
     "metadata": {},
     "output_type": "execute_result"
    }
   ],
   "source": [
    "knn_shifted_clf = KNeighborsClassifier(n_neighbors=grid_search.best_params_['n_neighbors'],\n",
    "                                       weights=grid_search.best_params_['weights'])\n",
    "knn_shifted_clf"
   ]
  },
  {
   "cell_type": "code",
   "execution_count": 24,
   "id": "gross-experience",
   "metadata": {},
   "outputs": [
    {
     "data": {
      "text/plain": [
       "KNeighborsClassifier(n_neighbors=4, weights='distance')"
      ]
     },
     "execution_count": 24,
     "metadata": {},
     "output_type": "execute_result"
    }
   ],
   "source": [
    "knn_shifted_clf.fit(xshifted, yshifted)"
   ]
  },
  {
   "cell_type": "code",
   "execution_count": 25,
   "id": "suspected-hypothetical",
   "metadata": {},
   "outputs": [
    {
     "data": {
      "text/plain": [
       "0.9763"
      ]
     },
     "execution_count": 25,
     "metadata": {},
     "output_type": "execute_result"
    }
   ],
   "source": [
    "y_pred = knn_shifted_clf.predict(X_test)\n",
    "accuracy_score(y_test, y_pred)"
   ]
  }
 ],
 "metadata": {
  "kernelspec": {
   "display_name": "Python 3",
   "language": "python",
   "name": "python3"
  },
  "language_info": {
   "codemirror_mode": {
    "name": "ipython",
    "version": 3
   },
   "file_extension": ".py",
   "mimetype": "text/x-python",
   "name": "python",
   "nbconvert_exporter": "python",
   "pygments_lexer": "ipython3",
   "version": "3.9.1"
  }
 },
 "nbformat": 4,
 "nbformat_minor": 5
}
